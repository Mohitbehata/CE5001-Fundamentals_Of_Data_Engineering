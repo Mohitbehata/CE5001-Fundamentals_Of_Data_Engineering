{
  "nbformat": 4,
  "nbformat_minor": 0,
  "metadata": {
    "colab": {
      "provenance": []
    },
    "kernelspec": {
      "name": "python3",
      "display_name": "Python 3"
    },
    "language_info": {
      "name": "python"
    }
  },
  "cells": [
    {
      "cell_type": "markdown",
      "source": [
        "**Importing Libraries and Setting up API URL**\n",
        "\n"
      ],
      "metadata": {
        "id": "j3cZY8ubkmDJ"
      }
    },
    {
      "cell_type": "code",
      "execution_count": 11,
      "metadata": {
        "id": "KIMIV7tELFrJ"
      },
      "outputs": [],
      "source": [
        "import requests\n",
        "import pandas as pd\n",
        "\n",
        "API_URL = \"https://api.openbrewerydb.org/v1/breweries/random?size=50\"\n"
      ]
    },
    {
      "cell_type": "markdown",
      "source": [
        "We import the required libraries, such as requests for handling API requests and pandas for data manipulation. We also set the API URL, which will be used to fetch the data."
      ],
      "metadata": {
        "id": "qlYTfZq0ks_B"
      }
    },
    {
      "cell_type": "markdown",
      "source": [
        "**Defining the Function to Fetch Data**"
      ],
      "metadata": {
        "id": "xafInv_8k0Cy"
      }
    },
    {
      "cell_type": "code",
      "source": [
        "def fetch_data(url, iterations):\n",
        "    all_data = []\n",
        "    for _ in range(iterations):\n",
        "        response = requests.get(url)\n",
        "        if response.status_code == 200:\n",
        "            data = response.json()\n",
        "            all_data.extend(data)\n",
        "        else:\n",
        "            print(f\"Failed to retrieve data from {url}\")\n",
        "    return all_data\n"
      ],
      "metadata": {
        "id": "bYB7DmWvkvsF"
      },
      "execution_count": 12,
      "outputs": []
    },
    {
      "cell_type": "markdown",
      "source": [
        "We are creating a function that fetches the data from the OpenBreweryDB API. The function iteratively fetches the data based on the number of iterations specified."
      ],
      "metadata": {
        "id": "wT-tO7ohk3kr"
      }
    },
    {
      "cell_type": "markdown",
      "source": [
        "**Main Function for Data Processing**"
      ],
      "metadata": {
        "id": "5GOVcT-fk-zO"
      }
    },
    {
      "cell_type": "code",
      "source": [
        "def main():\n",
        "    total_records = 10000\n",
        "    records_per_iteration = 50\n",
        "    iterations = total_records // records_per_iteration\n",
        "\n",
        "    data = fetch_data(API_URL, iterations)\n",
        "\n",
        "    # Transform the data into a pandas DataFrame\n",
        "    df = pd.DataFrame(data)\n",
        "\n",
        "    # Check the shape of the DataFrame\n",
        "    print(f\"Shape of the DataFrame: {df.shape}\")\n",
        "\n",
        "    # Drop any duplicates from the DataFrame if there are any\n",
        "    df.drop_duplicates(inplace=True)\n",
        "\n",
        "    # Replace phone number with \"phone number unknown\" when there are null values\n",
        "    df['phone'].fillna(\"Phone number unknown\", inplace=True)\n",
        "\n",
        "    # Replace website URL with \"Website URL unknown\" when there are null values\n",
        "    df['website_url'].fillna(\"Website URL unknown\", inplace=True)\n",
        "\n",
        "    # Sample data from the DataFrame\n",
        "    print(df.head())\n",
        "\n",
        "    return df\n",
        "\n",
        "if __name__ == '__main__':\n",
        "    df = main()\n"
      ],
      "metadata": {
        "colab": {
          "base_uri": "https://localhost:8080/"
        },
        "id": "uIeXf1KYlEdl",
        "outputId": "ff4395a6-56a6-4475-b9b5-0982a8393ecf"
      },
      "execution_count": 13,
      "outputs": [
        {
          "output_type": "stream",
          "name": "stdout",
          "text": [
            "Shape of the DataFrame: (10000, 16)\n",
            "                                     id                                name  \\\n",
            "0  ba9ac1f0-2b7d-4cc2-ab55-9eaa479fee80              Crooked Pecker Brewing   \n",
            "1  51652e93-207c-47c3-8c98-dd4f1c81fd39               Lumber Barons Brewery   \n",
            "2  a0d63612-aa12-440a-89fe-da702b1bbeec  Inside Passage Brewing Company LLC   \n",
            "3  5235f708-e30a-49ae-8681-0ff7167c8e76              Dock Street Brewing Co   \n",
            "4  99eacd23-0305-4a47-87ed-086e0da1ae35                         Browar Roch   \n",
            "\n",
            "  brewery_type          address_1 address_2 address_3            city  \\\n",
            "0     planning               None      None      None         Newbury   \n",
            "1      brewpub   804 E Midland St      None      None        Bay City   \n",
            "2       closed               None      None      None       Ketchikan   \n",
            "3     planning               None      None      None    Philadelphia   \n",
            "4        micro  Nowe Rochowice 22      None      None  Nowe Rochowice   \n",
            "\n",
            "  state_province postal_code        country     longitude    latitude  \\\n",
            "0           Ohio  44065-9735  United States          None        None   \n",
            "1       Michigan  48706-4953  United States          None        None   \n",
            "2         Alaska  99901-6502  United States  -131.6466819  55.3430696   \n",
            "3   Pennsylvania       19146  United States          None        None   \n",
            "4   dolnośląskie      59-420         Poland    16.0398406  50.9407953   \n",
            "\n",
            "                  phone                         website_url         state  \\\n",
            "0            4404763427                 Website URL unknown          Ohio   \n",
            "1            9898910100  http://www.lumberbaronsbrewery.com      Michigan   \n",
            "2            5133240762                 Website URL unknown        Alaska   \n",
            "3  Phone number unknown                 Website URL unknown  Pennsylvania   \n",
            "4  Phone number unknown                 Website URL unknown  dolnośląskie   \n",
            "\n",
            "              street  \n",
            "0               None  \n",
            "1   804 E Midland St  \n",
            "2               None  \n",
            "3               None  \n",
            "4  Nowe Rochowice 22  \n"
          ]
        }
      ]
    },
    {
      "cell_type": "markdown",
      "source": [
        "This is the main function for data processing. It includes fetching data from the API, transforming it into a pandas DataFrame, dropping any duplicates, and replacing null values in the 'phone' and 'website_url' columns with specified strings.\n",
        "\n",
        "By dividing the code into multiple cells, we can better understand the purpose and functionality of each part."
      ],
      "metadata": {
        "id": "ZMP5D_rrlIfp"
      }
    },
    {
      "cell_type": "code",
      "source": [
        "import sqlite3\n",
        "\n",
        "# Create a new SQLite database called \"brewery_data.db\"\n",
        "conn = sqlite3.connect('brewery_data.db')\n",
        "cur = conn.cursor()\n",
        "\n",
        "# Create \"US_data\" and \"Non_US_data\" tables in the SQLite database\n",
        "cur.execute('''\n",
        "    CREATE TABLE IF NOT EXISTS US_data (\n",
        "        id INTEGER PRIMARY KEY,\n",
        "        name TEXT,\n",
        "        city TEXT,\n",
        "        state TEXT,\n",
        "        country TEXT,\n",
        "        phone TEXT\n",
        "    )\n",
        "''')\n",
        "\n",
        "cur.execute('''\n",
        "    CREATE TABLE IF NOT EXISTS Non_US_data (\n",
        "        id INTEGER PRIMARY KEY,\n",
        "        name TEXT,\n",
        "        city TEXT,\n",
        "        state TEXT,\n",
        "        country TEXT,\n",
        "        phone TEXT\n",
        "    )\n",
        "''')\n",
        "\n",
        "# Load the transformed data into the appropriate SQLite tables based on the country\n",
        "for index, row in df.iterrows():\n",
        "    if row['country'] == 'United States':\n",
        "        cur.execute('''\n",
        "            INSERT INTO US_data (name, city, state, country, phone)\n",
        "            VALUES (?, ?, ?, ?, ?)\n",
        "        ''', (row['name'], row['city'], row['state'], row['country'], row['phone']))\n",
        "    else:\n",
        "        cur.execute('''\n",
        "            INSERT INTO Non_US_data (name, city, state, country, phone)\n",
        "            VALUES (?, ?, ?, ?, ?)\n",
        "        ''', (row['name'], row['city'], row['state'], row['country'], row['phone']))\n",
        "\n",
        "# Commit the changes and close the connection\n",
        "conn.commit()\n",
        "conn.close()\n"
      ],
      "metadata": {
        "id": "Ii-a6uGmhdMY"
      },
      "execution_count": 14,
      "outputs": []
    },
    {
      "cell_type": "markdown",
      "source": [
        "We are establishing a connection to an SQLite database named \"brewery_data.db\" and then create two tables within the database: \"US_data\" and \"Non_US_data\".\n",
        "\n",
        "These tables will store information about breweries, including their names, cities, states, countries, and phone numbers.\n",
        "\n",
        "We will then iterate through the DataFrame df, which contains the brewery data fetched from the OpenBreweryDB API. For each row in the DataFrame, we will check for the value in the 'country' column.\n",
        "\n",
        "1.   If the country is 'United States', the script inserts the corresponding brewery information into the \"US_data\" table.\n",
        "2.   If the country is not 'United States', the script inserts the information into the \"Non_US_data\" table.\n",
        "\n",
        "The data is extracted from the DataFrame row by row and inserted into the tables with the necessary information provided for each column.\n"
      ],
      "metadata": {
        "id": "lsqv5cZdm5fg"
      }
    },
    {
      "cell_type": "code",
      "source": [
        "import sqlite3\n",
        "from tabulate import tabulate\n",
        "\n",
        "# Establish a connection to the SQLite database\n",
        "conn = sqlite3.connect('brewery_data.db')\n",
        "cur = conn.cursor()\n",
        "\n",
        "# Query to count the total number of records in \"US_data\" table\n",
        "cur.execute(\"SELECT COUNT(*) FROM US_data\")\n",
        "us_data_count = cur.fetchone()[0]\n",
        "print(f\"Total number of records in US_data: {us_data_count}\")\n",
        "\n",
        "# Query to count the total number of records in \"Non_US_data\" table\n",
        "cur.execute(\"SELECT COUNT(*) FROM Non_US_data\")\n",
        "non_us_data_count = cur.fetchone()[0]\n",
        "print(f\"Total number of records in Non_US_data: {non_us_data_count}\")\n",
        "\n",
        "# Query to count the total number of records grouped by state in \"US_data\" table\n",
        "cur.execute(\"SELECT state, COUNT(*) FROM US_data GROUP BY state\")\n",
        "state_counts = cur.fetchall()\n",
        "print(\"Total number of records grouped by state in US_data:\")\n",
        "headers = [\"State\", \"Count\"]\n",
        "print(tabulate(state_counts, headers=headers, tablefmt=\"grid\"))\n",
        "\n",
        "# Close the connection to the database\n",
        "conn.close()\n"
      ],
      "metadata": {
        "colab": {
          "base_uri": "https://localhost:8080/"
        },
        "id": "XOjULmKgjX-Z",
        "outputId": "587f6973-2dbb-4449-edd1-645407370488"
      },
      "execution_count": 15,
      "outputs": [
        {
          "output_type": "stream",
          "name": "stdout",
          "text": [
            "Total number of records in US_data: 16807\n",
            "Total number of records in Non_US_data: 567\n",
            "Total number of records grouped by state in US_data:\n",
            "+----------------------+---------+\n",
            "| State                |   Count |\n",
            "+======================+=========+\n",
            "| Utah                 |       2 |\n",
            "+----------------------+---------+\n",
            "| Alabama              |      92 |\n",
            "+----------------------+---------+\n",
            "| Alaska               |     116 |\n",
            "+----------------------+---------+\n",
            "| Arizona              |     257 |\n",
            "+----------------------+---------+\n",
            "| Arkansas             |      96 |\n",
            "+----------------------+---------+\n",
            "| California           |    1919 |\n",
            "+----------------------+---------+\n",
            "| Colorado             |     922 |\n",
            "+----------------------+---------+\n",
            "| Connecticut          |     197 |\n",
            "+----------------------+---------+\n",
            "| Delaware             |      65 |\n",
            "+----------------------+---------+\n",
            "| District of Columbia |      32 |\n",
            "+----------------------+---------+\n",
            "| Florida              |     659 |\n",
            "+----------------------+---------+\n",
            "| Georgia              |     205 |\n",
            "+----------------------+---------+\n",
            "| Hawaii               |      46 |\n",
            "+----------------------+---------+\n",
            "| Idaho                |     145 |\n",
            "+----------------------+---------+\n",
            "| Illinois             |     531 |\n",
            "+----------------------+---------+\n",
            "| Indiana              |     355 |\n",
            "+----------------------+---------+\n",
            "| Iowa                 |     184 |\n",
            "+----------------------+---------+\n",
            "| Kansas               |      94 |\n",
            "+----------------------+---------+\n",
            "| Kentucky             |     115 |\n",
            "+----------------------+---------+\n",
            "| Louisiana            |      94 |\n",
            "+----------------------+---------+\n",
            "| MIssouri             |       2 |\n",
            "+----------------------+---------+\n",
            "| Maine                |     247 |\n",
            "+----------------------+---------+\n",
            "| Maryland             |     243 |\n",
            "+----------------------+---------+\n",
            "| Massachusetts        |     349 |\n",
            "+----------------------+---------+\n",
            "| Michigan             |     786 |\n",
            "+----------------------+---------+\n",
            "| Minnesota            |     386 |\n",
            "+----------------------+---------+\n",
            "| Mississippi          |      33 |\n",
            "+----------------------+---------+\n",
            "| Missouri             |     286 |\n",
            "+----------------------+---------+\n",
            "| Montana              |     193 |\n",
            "+----------------------+---------+\n",
            "| Nebraska             |     127 |\n",
            "+----------------------+---------+\n",
            "| Nevada               |      98 |\n",
            "+----------------------+---------+\n",
            "| New Hampshire        |     157 |\n",
            "+----------------------+---------+\n",
            "| New Jersey           |     240 |\n",
            "+----------------------+---------+\n",
            "| New Mexico           |     163 |\n",
            "+----------------------+---------+\n",
            "| New York             |     865 |\n",
            "+----------------------+---------+\n",
            "| North Carolina       |     671 |\n",
            "+----------------------+---------+\n",
            "| North Dakota         |      57 |\n",
            "+----------------------+---------+\n",
            "| Ohio                 |     644 |\n",
            "+----------------------+---------+\n",
            "| Oklahoma             |      98 |\n",
            "+----------------------+---------+\n",
            "| Oregon               |     636 |\n",
            "+----------------------+---------+\n",
            "| Pennsylvania         |     734 |\n",
            "+----------------------+---------+\n",
            "| Rhode Island         |      67 |\n",
            "+----------------------+---------+\n",
            "| South Carolina       |     174 |\n",
            "+----------------------+---------+\n",
            "| South Dakota         |     103 |\n",
            "+----------------------+---------+\n",
            "| Tennessee            |     229 |\n",
            "+----------------------+---------+\n",
            "| Texas                |     704 |\n",
            "+----------------------+---------+\n",
            "| Utah                 |      95 |\n",
            "+----------------------+---------+\n",
            "| Vermont              |     128 |\n",
            "+----------------------+---------+\n",
            "| Virginia             |     536 |\n",
            "+----------------------+---------+\n",
            "| Washington           |    1023 |\n",
            "+----------------------+---------+\n",
            "| Washington           |       2 |\n",
            "+----------------------+---------+\n",
            "| West Virginia        |      69 |\n",
            "+----------------------+---------+\n",
            "| Wisconsin            |     463 |\n",
            "+----------------------+---------+\n",
            "| Wyoming              |      73 |\n",
            "+----------------------+---------+\n"
          ]
        }
      ]
    },
    {
      "cell_type": "markdown",
      "source": [
        " **Querying for Counts**\n",
        "\n",
        "We are writing a query to count the total number of records in “US_data” table and “Non_US_data” table.\n",
        "\n",
        "1.   For the \"US_data\" table, we are calculating the count of records where the breweries are located in the United States.\n",
        "2.   For the \"Non_US_data\" table, we are calculates the count of records where the breweries are located outside the United States.\n",
        "\n",
        "We are fetching the count using the cur.fetchone() method and storing them in the variables us_data_count and non_us_data_count.\n",
        "\n",
        "**Querying and Grouping Data:**\n",
        "\n",
        "We are writing a query to count the total number of records in the \"US_data\" table grouped by the 'state' column. This provides a breakdown of how many breweries are in each state in the United States. The results of this query are then stored in the state_counts variable.\n",
        "\n",
        "**Tabulating Data:**\n",
        "\n",
        "We are using tabulate library to format and print the results as a table for better readability. The headers as \"State\" and \"Count\" and uses the \"grid\" format for the table."
      ],
      "metadata": {
        "id": "FdDG4RUeoeTU"
      }
    }
  ]
}