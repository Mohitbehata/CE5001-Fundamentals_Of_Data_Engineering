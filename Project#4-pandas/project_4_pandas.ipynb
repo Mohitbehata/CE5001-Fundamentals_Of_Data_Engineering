{
  "nbformat": 4,
  "nbformat_minor": 0,
  "metadata": {
    "colab": {
      "provenance": []
    },
    "kernelspec": {
      "name": "python3",
      "display_name": "Python 3"
    },
    "language_info": {
      "name": "python"
    }
  },
  "cells": [
    {
      "cell_type": "markdown",
      "source": [
        "#You will learn:\n",
        "\n",
        "1. How to merge two pandas dataframes into one.\n",
        "2. How to split a column into two columns.\n",
        "3. How to merge two columns into one column.\n",
        "4. How to export the transformed dataframe into a CSV file."
      ],
      "metadata": {
        "id": "YFI7koWOyyA1"
      }
    },
    {
      "cell_type": "code",
      "source": [
        "# install requirement\n",
        "#!pip install pandas\n",
        "!pip install faker"
      ],
      "metadata": {
        "colab": {
          "base_uri": "https://localhost:8080/"
        },
        "id": "-fV3g65KuNP4",
        "outputId": "27d386bd-5e4c-4fcf-c9e5-585f4d327ae1"
      },
      "execution_count": 19,
      "outputs": [
        {
          "output_type": "stream",
          "name": "stdout",
          "text": [
            "Requirement already satisfied: faker in /usr/local/lib/python3.10/dist-packages (19.6.2)\n",
            "Requirement already satisfied: python-dateutil>=2.4 in /usr/local/lib/python3.10/dist-packages (from faker) (2.8.2)\n",
            "Requirement already satisfied: six>=1.5 in /usr/local/lib/python3.10/dist-packages (from python-dateutil>=2.4->faker) (1.16.0)\n"
          ]
        }
      ]
    },
    {
      "cell_type": "code",
      "execution_count": 20,
      "metadata": {
        "id": "eIPldl8AuBu_"
      },
      "outputs": [],
      "source": [
        "# function to create a dataframe with fake data columns\n",
        "from random import randint\n",
        "import pandas as pd\n",
        "from faker import Faker\n",
        "\n",
        "fake = Faker('en_US')\n",
        "\n",
        "def input_data(x):\n",
        "    Faker.seed(randint(1,100))\n",
        "    # pandas dataframe\n",
        "    data = pd.DataFrame()\n",
        "    for i in range(0, x):\n",
        "        data.loc[i,'id']= randint(1, 100)\n",
        "        data.loc[i,'name']= fake.name()\n",
        "        data.loc[i,'address']= fake.address()\n",
        "        data.loc[i,'latitude']= str(fake.latitude())\n",
        "        data.loc[i,'longitude']= str(fake.longitude())\n",
        "    return data"
      ]
    },
    {
      "cell_type": "code",
      "source": [
        "pd1 = input_data(10)\n",
        "pd1['id'] = pd1['id'].astype(int)\n",
        "print(pd1.to_string())"
      ],
      "metadata": {
        "colab": {
          "base_uri": "https://localhost:8080/"
        },
        "id": "zm6sArl6v_-0",
        "outputId": "ea865ded-6e35-4d0a-8760-2f360ac2cfca"
      },
      "execution_count": 21,
      "outputs": [
        {
          "output_type": "stream",
          "name": "stdout",
          "text": [
            "   id             name                                               address     latitude    longitude\n",
            "0  30       Sara White                      Unit 3212 Box 4077\\nDPO AP 83754  -58.9705355  -164.876163\n",
            "1  13   Tina Stevenson     1492 Horne Club Suite 035\\nPatricialand, ME 13202   -23.970300   177.089115\n",
            "2  97  Brittany Abbott  8431 Mueller Shoal Apt. 573\\nSouth William, NY 30087    52.833701   -49.751595\n",
            "3  19     Chad Edwards                  3461 Cox Islands\\nKimshire, GU 57461     1.643105   -46.352601\n",
            "4   4     Amanda Pitts   1015 Shepherd Plain Suite 986\\nMasseyport, ME 49252  -11.1224625  -101.733027\n",
            "5  21    Terry Lindsey                 8066 Stein Grove\\nReyesstad, MD 95047   -87.711827    33.212808\n",
            "6  16    Karen Mcguire         89372 Marcia Creek\\nNorth Jimmytown, OH 92340   41.2044265  -153.378485\n",
            "7  31      Gary Parker              81987 Scott Shoal\\nStevensfurt, MT 86952  -48.4994895     3.208024\n",
            "8  84     Joseph White    3923 Kurt Summit Apt. 471\\nEast Nicholas, RI 74401    37.643422   134.856398\n",
            "9  65     Peter Norris           23303 Parker Springs\\nWest Joseph, LA 62646    58.101483   -28.222816\n"
          ]
        }
      ]
    },
    {
      "cell_type": "code",
      "source": [
        "pd2 = input_data(10)\n",
        "pd2['id'] = pd2['id'].astype(int)\n",
        "print(pd2.to_string())"
      ],
      "metadata": {
        "colab": {
          "base_uri": "https://localhost:8080/"
        },
        "id": "Fdqbq-4_wCpK",
        "outputId": "598132c6-dbff-416c-f432-ba1e6ab4da5d"
      },
      "execution_count": 22,
      "outputs": [
        {
          "output_type": "stream",
          "name": "stdout",
          "text": [
            "   id               name                                                address     latitude    longitude\n",
            "0  67      Becky Ramirez    754 Larson Harbor\\nSouth Alexanderchester, MI 60072     4.076146   -65.239328\n",
            "1  47       Amanda Owens               2147 Hancock Valleys\\nRyanstad, AZ 72059   -84.983523   -31.263497\n",
            "2  76    Courtney Melton  02793 Smith Ford Apt. 994\\nEast Destinyberg, IL 25561  -80.2416275    42.203689\n",
            "3  19          Lisa Shah              37286 Yesenia Isle\\nDesireeberg, NY 88615    69.559086  -112.047614\n",
            "4  57        Emma Burton   85548 Crystal Junction Apt. 908\\nPort Eric, SC 92431    66.921362  -101.325988\n",
            "5  25          Jon Lewis    610 Lisa Vista Apt. 536\\nNorth Nancyville, WY 07977    29.691807  -137.772924\n",
            "6  23        Debra Evans    570 Destiny Ridges Suite 465\\nNew Annland, ND 33024   48.9065955   -50.657857\n",
            "7  27       Ryan Vasquez                        USCGC Christensen\\nFPO AA 16763   -11.997430   -46.912951\n",
            "8   9     Patrick Newton            28643 Aguilar Isle\\nWest Patricia, MN 70053  -27.9582095  -111.399891\n",
            "9   7  Elizabeth Estrada     758 Diane Rapids Apt. 264\\nEast Lawrence, VI 15166    74.071323  -122.975270\n"
          ]
        }
      ]
    },
    {
      "cell_type": "code",
      "source": [
        "# Merge df1 and df2 into another dataframe df3\n",
        "# then print df3\n",
        "df3 = pd.concat([pd1, pd2])\n",
        "print(df3.to_string())\n"
      ],
      "metadata": {
        "id": "CbL6UBmNyVsE",
        "colab": {
          "base_uri": "https://localhost:8080/"
        },
        "outputId": "9e423dd6-c4ba-4f82-dd2c-6a1f1d615370"
      },
      "execution_count": 23,
      "outputs": [
        {
          "output_type": "stream",
          "name": "stdout",
          "text": [
            "   id               name                                                address     latitude    longitude\n",
            "0  30         Sara White                       Unit 3212 Box 4077\\nDPO AP 83754  -58.9705355  -164.876163\n",
            "1  13     Tina Stevenson      1492 Horne Club Suite 035\\nPatricialand, ME 13202   -23.970300   177.089115\n",
            "2  97    Brittany Abbott   8431 Mueller Shoal Apt. 573\\nSouth William, NY 30087    52.833701   -49.751595\n",
            "3  19       Chad Edwards                   3461 Cox Islands\\nKimshire, GU 57461     1.643105   -46.352601\n",
            "4   4       Amanda Pitts    1015 Shepherd Plain Suite 986\\nMasseyport, ME 49252  -11.1224625  -101.733027\n",
            "5  21      Terry Lindsey                  8066 Stein Grove\\nReyesstad, MD 95047   -87.711827    33.212808\n",
            "6  16      Karen Mcguire          89372 Marcia Creek\\nNorth Jimmytown, OH 92340   41.2044265  -153.378485\n",
            "7  31        Gary Parker               81987 Scott Shoal\\nStevensfurt, MT 86952  -48.4994895     3.208024\n",
            "8  84       Joseph White     3923 Kurt Summit Apt. 471\\nEast Nicholas, RI 74401    37.643422   134.856398\n",
            "9  65       Peter Norris            23303 Parker Springs\\nWest Joseph, LA 62646    58.101483   -28.222816\n",
            "0  67      Becky Ramirez    754 Larson Harbor\\nSouth Alexanderchester, MI 60072     4.076146   -65.239328\n",
            "1  47       Amanda Owens               2147 Hancock Valleys\\nRyanstad, AZ 72059   -84.983523   -31.263497\n",
            "2  76    Courtney Melton  02793 Smith Ford Apt. 994\\nEast Destinyberg, IL 25561  -80.2416275    42.203689\n",
            "3  19          Lisa Shah              37286 Yesenia Isle\\nDesireeberg, NY 88615    69.559086  -112.047614\n",
            "4  57        Emma Burton   85548 Crystal Junction Apt. 908\\nPort Eric, SC 92431    66.921362  -101.325988\n",
            "5  25          Jon Lewis    610 Lisa Vista Apt. 536\\nNorth Nancyville, WY 07977    29.691807  -137.772924\n",
            "6  23        Debra Evans    570 Destiny Ridges Suite 465\\nNew Annland, ND 33024   48.9065955   -50.657857\n",
            "7  27       Ryan Vasquez                        USCGC Christensen\\nFPO AA 16763   -11.997430   -46.912951\n",
            "8   9     Patrick Newton            28643 Aguilar Isle\\nWest Patricia, MN 70053  -27.9582095  -111.399891\n",
            "9   7  Elizabeth Estrada     758 Diane Rapids Apt. 264\\nEast Lawrence, VI 15166    74.071323  -122.975270\n"
          ]
        }
      ]
    },
    {
      "cell_type": "code",
      "source": [
        "# Sort df3 with respect id in ascending order\n",
        "# then print df3\n",
        "sort_df3= df3.sort_values(by='id')\n",
        "print(sort_df3.to_string())"
      ],
      "metadata": {
        "id": "WnZpnyxNyd7s",
        "colab": {
          "base_uri": "https://localhost:8080/"
        },
        "outputId": "b30fd4a8-e434-4b63-b36e-4cecd0ed22e8"
      },
      "execution_count": 24,
      "outputs": [
        {
          "output_type": "stream",
          "name": "stdout",
          "text": [
            "   id               name                                                address     latitude    longitude\n",
            "4   4       Amanda Pitts    1015 Shepherd Plain Suite 986\\nMasseyport, ME 49252  -11.1224625  -101.733027\n",
            "9   7  Elizabeth Estrada     758 Diane Rapids Apt. 264\\nEast Lawrence, VI 15166    74.071323  -122.975270\n",
            "8   9     Patrick Newton            28643 Aguilar Isle\\nWest Patricia, MN 70053  -27.9582095  -111.399891\n",
            "1  13     Tina Stevenson      1492 Horne Club Suite 035\\nPatricialand, ME 13202   -23.970300   177.089115\n",
            "6  16      Karen Mcguire          89372 Marcia Creek\\nNorth Jimmytown, OH 92340   41.2044265  -153.378485\n",
            "3  19       Chad Edwards                   3461 Cox Islands\\nKimshire, GU 57461     1.643105   -46.352601\n",
            "3  19          Lisa Shah              37286 Yesenia Isle\\nDesireeberg, NY 88615    69.559086  -112.047614\n",
            "5  21      Terry Lindsey                  8066 Stein Grove\\nReyesstad, MD 95047   -87.711827    33.212808\n",
            "6  23        Debra Evans    570 Destiny Ridges Suite 465\\nNew Annland, ND 33024   48.9065955   -50.657857\n",
            "5  25          Jon Lewis    610 Lisa Vista Apt. 536\\nNorth Nancyville, WY 07977    29.691807  -137.772924\n",
            "7  27       Ryan Vasquez                        USCGC Christensen\\nFPO AA 16763   -11.997430   -46.912951\n",
            "0  30         Sara White                       Unit 3212 Box 4077\\nDPO AP 83754  -58.9705355  -164.876163\n",
            "7  31        Gary Parker               81987 Scott Shoal\\nStevensfurt, MT 86952  -48.4994895     3.208024\n",
            "1  47       Amanda Owens               2147 Hancock Valleys\\nRyanstad, AZ 72059   -84.983523   -31.263497\n",
            "4  57        Emma Burton   85548 Crystal Junction Apt. 908\\nPort Eric, SC 92431    66.921362  -101.325988\n",
            "9  65       Peter Norris            23303 Parker Springs\\nWest Joseph, LA 62646    58.101483   -28.222816\n",
            "0  67      Becky Ramirez    754 Larson Harbor\\nSouth Alexanderchester, MI 60072     4.076146   -65.239328\n",
            "2  76    Courtney Melton  02793 Smith Ford Apt. 994\\nEast Destinyberg, IL 25561  -80.2416275    42.203689\n",
            "8  84       Joseph White     3923 Kurt Summit Apt. 471\\nEast Nicholas, RI 74401    37.643422   134.856398\n",
            "2  97    Brittany Abbott   8431 Mueller Shoal Apt. 573\\nSouth William, NY 30087    52.833701   -49.751595\n"
          ]
        }
      ]
    },
    {
      "cell_type": "code",
      "source": [
        "\n",
        "\n",
        "def split_name_and_remove_suffixes(name):\n",
        "    # List of common suffixes to remove\n",
        "    # Define a list of suffixes to remove\n",
        "    suffixes = [\n",
        "    \"Mr.\",\n",
        "    \"Mrs.\",\n",
        "    \"Ms.\",\n",
        "    \"Dr.\",\n",
        "    \"Jr.\",\n",
        "    \"Sr.\",\n",
        "    \"II\",\n",
        "    \"III\",\n",
        "    \"IV\",\n",
        "    \"Esq.\",\n",
        "    \"Ph.D.\",\n",
        "    \"M.D.\",\n",
        "    \"DVM\",\n",
        "    \"DDS\",\n",
        "    \"MBA\",\n",
        "    \"RN\",\n",
        "    \"CP\",\n",
        "    \"JD\",\n",
        "    \"MD\"\n",
        "    ]\n",
        "\n",
        "    # Split the name into parts\n",
        "    parts = name.split()\n",
        "\n",
        "    # Remove suffixes\n",
        "    cleaned_name_parts = [part for part in parts if part not in suffixes]\n",
        "\n",
        "    # Take the first part as the first name, and the rest as the last name\n",
        "    if len(cleaned_name_parts) >= 2:\n",
        "        return cleaned_name_parts[0], ' '.join(cleaned_name_parts[1:])\n",
        "    elif len(cleaned_name_parts) == 1:\n",
        "        return cleaned_name_parts[0], ''\n",
        "    else:\n",
        "        return '', ''\n",
        "\n",
        "# Apply the split_name_and_remove_suffixes function to split the 'name' column\n",
        "sort_df3[['fname', 'lname']] = sort_df3['name'].apply(split_name_and_remove_suffixes).apply(pd.Series)\n",
        "\n",
        "sort_df3.drop(columns=['name'], inplace=True)\n",
        "# Print the updated DataFrame\n",
        "print(sort_df3.to_string())"
      ],
      "metadata": {
        "id": "ttq8PBuXykfU",
        "colab": {
          "base_uri": "https://localhost:8080/"
        },
        "outputId": "b6aaac73-7d0e-4ad1-e750-6fc9f725fe08"
      },
      "execution_count": 25,
      "outputs": [
        {
          "output_type": "stream",
          "name": "stdout",
          "text": [
            "   id                                                address     latitude    longitude      fname      lname\n",
            "4   4    1015 Shepherd Plain Suite 986\\nMasseyport, ME 49252  -11.1224625  -101.733027     Amanda      Pitts\n",
            "9   7     758 Diane Rapids Apt. 264\\nEast Lawrence, VI 15166    74.071323  -122.975270  Elizabeth    Estrada\n",
            "8   9            28643 Aguilar Isle\\nWest Patricia, MN 70053  -27.9582095  -111.399891    Patrick     Newton\n",
            "1  13      1492 Horne Club Suite 035\\nPatricialand, ME 13202   -23.970300   177.089115       Tina  Stevenson\n",
            "6  16          89372 Marcia Creek\\nNorth Jimmytown, OH 92340   41.2044265  -153.378485      Karen    Mcguire\n",
            "3  19                   3461 Cox Islands\\nKimshire, GU 57461     1.643105   -46.352601       Chad    Edwards\n",
            "3  19              37286 Yesenia Isle\\nDesireeberg, NY 88615    69.559086  -112.047614       Lisa       Shah\n",
            "5  21                  8066 Stein Grove\\nReyesstad, MD 95047   -87.711827    33.212808      Terry    Lindsey\n",
            "6  23    570 Destiny Ridges Suite 465\\nNew Annland, ND 33024   48.9065955   -50.657857      Debra      Evans\n",
            "5  25    610 Lisa Vista Apt. 536\\nNorth Nancyville, WY 07977    29.691807  -137.772924        Jon      Lewis\n",
            "7  27                        USCGC Christensen\\nFPO AA 16763   -11.997430   -46.912951       Ryan    Vasquez\n",
            "0  30                       Unit 3212 Box 4077\\nDPO AP 83754  -58.9705355  -164.876163       Sara      White\n",
            "7  31               81987 Scott Shoal\\nStevensfurt, MT 86952  -48.4994895     3.208024       Gary     Parker\n",
            "1  47               2147 Hancock Valleys\\nRyanstad, AZ 72059   -84.983523   -31.263497     Amanda      Owens\n",
            "4  57   85548 Crystal Junction Apt. 908\\nPort Eric, SC 92431    66.921362  -101.325988       Emma     Burton\n",
            "9  65            23303 Parker Springs\\nWest Joseph, LA 62646    58.101483   -28.222816      Peter     Norris\n",
            "0  67    754 Larson Harbor\\nSouth Alexanderchester, MI 60072     4.076146   -65.239328      Becky    Ramirez\n",
            "2  76  02793 Smith Ford Apt. 994\\nEast Destinyberg, IL 25561  -80.2416275    42.203689   Courtney     Melton\n",
            "8  84     3923 Kurt Summit Apt. 471\\nEast Nicholas, RI 74401    37.643422   134.856398     Joseph      White\n",
            "2  97   8431 Mueller Shoal Apt. 573\\nSouth William, NY 30087    52.833701   -49.751595   Brittany     Abbott\n"
          ]
        }
      ]
    },
    {
      "cell_type": "code",
      "source": [
        "# Merge latitude and longitude columns into location column\n",
        "# in <latitude>, <longitude> format\n",
        "# make sure to remove latitude and longitude columns after that\n",
        "# then print df3\n",
        "# df3 has columns including id, fname, lname, address and location now\n",
        "sort_df3['location'] = sort_df3['latitude'].astype(str) + ', ' + sort_df3['longitude'].astype(str)\n",
        "\n",
        "# Remove latitude and longitude columns\n",
        "sort_df3.drop(columns=['latitude', 'longitude'], inplace=True)\n",
        "\n",
        "# Print the updated DataFrame\n",
        "print(sort_df3.to_string())\n"
      ],
      "metadata": {
        "id": "iJ-yXvyBy09x",
        "colab": {
          "base_uri": "https://localhost:8080/"
        },
        "outputId": "31907fbf-fcf5-44cb-fee4-498085324e0d"
      },
      "execution_count": 26,
      "outputs": [
        {
          "output_type": "stream",
          "name": "stdout",
          "text": [
            "   id                                                address      fname      lname                  location\n",
            "4   4    1015 Shepherd Plain Suite 986\\nMasseyport, ME 49252     Amanda      Pitts  -11.1224625, -101.733027\n",
            "9   7     758 Diane Rapids Apt. 264\\nEast Lawrence, VI 15166  Elizabeth    Estrada    74.071323, -122.975270\n",
            "8   9            28643 Aguilar Isle\\nWest Patricia, MN 70053    Patrick     Newton  -27.9582095, -111.399891\n",
            "1  13      1492 Horne Club Suite 035\\nPatricialand, ME 13202       Tina  Stevenson    -23.970300, 177.089115\n",
            "6  16          89372 Marcia Creek\\nNorth Jimmytown, OH 92340      Karen    Mcguire   41.2044265, -153.378485\n",
            "3  19                   3461 Cox Islands\\nKimshire, GU 57461       Chad    Edwards      1.643105, -46.352601\n",
            "3  19              37286 Yesenia Isle\\nDesireeberg, NY 88615       Lisa       Shah    69.559086, -112.047614\n",
            "5  21                  8066 Stein Grove\\nReyesstad, MD 95047      Terry    Lindsey     -87.711827, 33.212808\n",
            "6  23    570 Destiny Ridges Suite 465\\nNew Annland, ND 33024      Debra      Evans    48.9065955, -50.657857\n",
            "5  25    610 Lisa Vista Apt. 536\\nNorth Nancyville, WY 07977        Jon      Lewis    29.691807, -137.772924\n",
            "7  27                        USCGC Christensen\\nFPO AA 16763       Ryan    Vasquez    -11.997430, -46.912951\n",
            "0  30                       Unit 3212 Box 4077\\nDPO AP 83754       Sara      White  -58.9705355, -164.876163\n",
            "7  31               81987 Scott Shoal\\nStevensfurt, MT 86952       Gary     Parker     -48.4994895, 3.208024\n",
            "1  47               2147 Hancock Valleys\\nRyanstad, AZ 72059     Amanda      Owens    -84.983523, -31.263497\n",
            "4  57   85548 Crystal Junction Apt. 908\\nPort Eric, SC 92431       Emma     Burton    66.921362, -101.325988\n",
            "9  65            23303 Parker Springs\\nWest Joseph, LA 62646      Peter     Norris     58.101483, -28.222816\n",
            "0  67    754 Larson Harbor\\nSouth Alexanderchester, MI 60072      Becky    Ramirez      4.076146, -65.239328\n",
            "2  76  02793 Smith Ford Apt. 994\\nEast Destinyberg, IL 25561   Courtney     Melton    -80.2416275, 42.203689\n",
            "8  84     3923 Kurt Summit Apt. 471\\nEast Nicholas, RI 74401     Joseph      White     37.643422, 134.856398\n",
            "2  97   8431 Mueller Shoal Apt. 573\\nSouth William, NY 30087   Brittany     Abbott     52.833701, -49.751595\n"
          ]
        }
      ]
    },
    {
      "cell_type": "code",
      "source": [
        "# write df3 to a CSV file named output_data.csv\n",
        "# Split name column into two columns fname and lname\n",
        "# make sure to remove name column after that\n",
        "# then print df3\n",
        "sort_df3.to_csv('output_data.csv', index=False)"
      ],
      "metadata": {
        "id": "AqYVOkeuzG1b"
      },
      "execution_count": 27,
      "outputs": []
    },
    {
      "cell_type": "markdown",
      "source": [
        "**Conclusion**\n",
        "1. Merging dataframes into a single dataframe.\n",
        "\n",
        "2. Sorting the new dataframe in ascending order of id attribute.\n",
        "\n",
        "3. Splitting a Name into First and Last Name:\n",
        "\n",
        "   - The code snippet takes a DataFrame with a 'name' column and splits it into 'firstname' and 'lastname' columns.\n",
        "   - Removing Specific Suffixes from Names: The code removes specific suffixes (e.g., \"Mr.\" and \"MD\") from names in a DataFrame while splitting them into 'firstname' and 'lastname' columns.\n",
        "4. Merging Latitude and Longitude into a Location Column:\n",
        "   - This code merges 'latitude' and 'longitude' columns into a single 'location' column and removes the original latitude and longitude columns.\n",
        "5. Finally writing DataFrame to a CSV File and Splitting Names: All the above code ensures that the 'name' column is split into 'fname' and 'lname' columns, also we remove the original 'name' column and print the resulting DataFrame, and writes it to a CSV file named 'output_data.csv'."
      ],
      "metadata": {
        "id": "boqc9yZqczoA"
      }
    }
  ]
}