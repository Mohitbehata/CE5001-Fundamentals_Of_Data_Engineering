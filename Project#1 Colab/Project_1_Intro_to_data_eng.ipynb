{
  "nbformat": 4,
  "nbformat_minor": 0,
  "metadata": {
    "colab": {
      "provenance": []
    },
    "kernelspec": {
      "name": "python3",
      "display_name": "Python 3"
    },
    "language_info": {
      "name": "python"
    }
  },
  "cells": [
    {
      "cell_type": "markdown",
      "source": [
        "<h2><b>Project#1 Colab"
      ],
      "metadata": {
        "id": "mhs1rOtoiTAO"
      }
    },
    {
      "cell_type": "code",
      "execution_count": 25,
      "metadata": {
        "colab": {
          "base_uri": "https://localhost:8080/"
        },
        "id": "Kb_NSJRRPMCY",
        "outputId": "581e3494-33ff-4049-f5fb-075e8067a681"
      },
      "outputs": [
        {
          "output_type": "stream",
          "name": "stdout",
          "text": [
            "Thu Aug 31 05:40:37 2023\n"
          ]
        }
      ],
      "source": [
        "import time\n",
        "print(time.ctime())"
      ]
    },
    {
      "cell_type": "markdown",
      "source": [
        "<body>The above code utilizes <b>time</b> module to display current date and time.\n"
      ],
      "metadata": {
        "id": "aidnK9OIQH8E"
      }
    },
    {
      "cell_type": "markdown",
      "source": [
        "<body>The <b>time.ctime()</b> function returns the current system time and converts it to a string representation of the type \"Day Month Date HH:MM:SS Year\". Finally, the print() method is called to output the formatted time string to the console."
      ],
      "metadata": {
        "id": "-QqAckCOQ10A"
      }
    },
    {
      "cell_type": "code",
      "source": [
        "time.sleep(5)\n",
        "print (time.ctime())\n"
      ],
      "metadata": {
        "colab": {
          "base_uri": "https://localhost:8080/"
        },
        "id": "fEdBZLm7Q3Id",
        "outputId": "2aa10252-9527-4078-cc48-8975d2338a48"
      },
      "execution_count": 26,
      "outputs": [
        {
          "output_type": "stream",
          "name": "stdout",
          "text": [
            "Thu Aug 31 05:40:43 2023\n"
          ]
        }
      ]
    },
    {
      "cell_type": "markdown",
      "source": [
        "<body>The <b>time.sleep(5)</b> method is first invoked, which pauses the program's execution for 5 seconds. This implies that the following code will be performed after a 5-second wait."
      ],
      "metadata": {
        "id": "60HHpRazRgqL"
      }
    },
    {
      "cell_type": "markdown",
      "source": [
        "<body>Following the wait, the <b>print(time.ctime())</b> command is executed, displaying the current date and time using the time module's ctime() function."
      ],
      "metadata": {
        "id": "fYpxRT73U1qF"
      }
    },
    {
      "cell_type": "markdown",
      "source": [
        "<h3><b>Different Text Styles </h3>"
      ],
      "metadata": {
        "id": "Qv8xEEz8jabM"
      }
    },
    {
      "cell_type": "markdown",
      "source": [
        "This is **bold**.\n",
        "<br>This is *italic*.\n",
        "<br>This is ~strikethrough~."
      ],
      "metadata": {
        "id": "KxYdDsIZjPVQ"
      }
    },
    {
      "cell_type": "markdown",
      "source": [
        "<h3><b>Mathematical Representations</b></h3>\n",
        "Various Mathematical equations can be represented with Collab Text cell.\n"
      ],
      "metadata": {
        "id": "lkyd7-zHrQZg"
      }
    },
    {
      "cell_type": "markdown",
      "source": [
        "Constraints are\n",
        "   - $3x_1 + 6x_2 + x_3 =< 28$\n",
        "   - $7x_1 + 3x_2 + 2x_3 =< 37$\n",
        "   - $4x_1 + 5x_2 + 2x_3 =< 19$\n",
        "   - $x_1,x_2,x_3 >=0 $\n",
        "\n",
        "The trial vector is calculated as follows:\n",
        "- $u_i(t) = x_i(t) + \\beta(\\hat{x}(t) − x_i(t)) + \\beta \\sum_{k = 1}^{n_v}(x_{i1,k}(t) − x_{i2,k}(t))$\n",
        "$f(x_1, x_2) = 20 + e - 20exp(-0.2 \\sqrt {\\frac {1}{n} (x_1^2 + x_2^2)}) - exp (\\frac {1}{n}(cos(2\\pi x_1) + cos(2\\pi x_2))$\n",
        "\n",
        "$x ∈ [-5, 5]$\n",
        ">$A_{m,n} =\n",
        "   \\begin{pmatrix}\n",
        "   a_{1,1} > a_{1,2} > \\cdots > a_{1,n} \\\\\n",
        "   a_{2,1} > a_{2,2} > \\cdots > a_{2,n} \\\\\n",
        "   \\vdots > \\vdots > \\ddots > \\vdots \\\\\n",
        "   a_{m,1} > a_{m,2} > \\cdots > a_{m,n}\n",
        "   \\end{pmatrix}$"
      ],
      "metadata": {
        "id": "Z7YQwwtVwO6P"
      }
    },
    {
      "cell_type": "markdown",
      "source": [
        "<b>Demonstration of echo"
      ],
      "metadata": {
        "id": "6kYKZ50k9r0K"
      }
    },
    {
      "cell_type": "code",
      "source": [
        "import subprocess\n",
        "\n",
        "message = 'A Great Tutorial on Colab by Tutorialspoint!'\n",
        "greeting = subprocess.getoutput(f'echo  \"{message}\\\\n{message}\"')\n",
        "print(greeting)"
      ],
      "metadata": {
        "colab": {
          "base_uri": "https://localhost:8080/"
        },
        "id": "1PcLFXF5jSvp",
        "outputId": "68855284-ff10-44c6-e85e-3a2867881b43"
      },
      "execution_count": 27,
      "outputs": [
        {
          "output_type": "stream",
          "name": "stdout",
          "text": [
            "A Great Tutorial on Colab by Tutorialspoint!\n",
            "A Great Tutorial on Colab by Tutorialspoint!\n"
          ]
        }
      ]
    },
    {
      "cell_type": "markdown",
      "source": [
        "<b>Demonstration of Getting Remote Data</b>\n",
        "<body>\n",
        "The link in tutorial is broken so using other link to show demonstration.\n",
        "\n"
      ],
      "metadata": {
        "id": "_ZiNiTOz98qW"
      }
    },
    {
      "cell_type": "code",
      "source": [
        "!wget https://archive.ics.uci.edu/dataset/2/adult -P \"/content/drive/My Drive/app\"\n"
      ],
      "metadata": {
        "colab": {
          "base_uri": "https://localhost:8080/"
        },
        "id": "5gz5PZEe96Kx",
        "outputId": "c1d65fd2-5ecd-41ad-985d-1cc3d005adbf"
      },
      "execution_count": 28,
      "outputs": [
        {
          "output_type": "stream",
          "name": "stdout",
          "text": [
            "--2023-08-31 05:40:43--  https://archive.ics.uci.edu/dataset/2/adult\n",
            "Resolving archive.ics.uci.edu (archive.ics.uci.edu)... 128.195.10.252\n",
            "Connecting to archive.ics.uci.edu (archive.ics.uci.edu)|128.195.10.252|:443... connected.\n",
            "HTTP request sent, awaiting response... 200 OK\n",
            "Length: 307619 (300K) [text/html]\n",
            "Saving to: ‘/content/drive/My Drive/app/adult.2’\n",
            "\n",
            "adult.2             100%[===================>] 300.41K  --.-KB/s    in 0.1s    \n",
            "\n",
            "2023-08-31 05:40:43 (2.20 MB/s) - ‘/content/drive/My Drive/app/adult.2’ saved [307619/307619]\n",
            "\n"
          ]
        }
      ]
    },
    {
      "cell_type": "markdown",
      "source": [
        "<b>Exploring the added Dataset"
      ],
      "metadata": {
        "id": "LCTtQ87M--KP"
      }
    },
    {
      "cell_type": "code",
      "source": [
        "import pandas as pd\n",
        "data = pd.read_csv(\"/content/drive/My Drive/app/adult\", on_bad_lines='skip')\n",
        "data.head(5)"
      ],
      "metadata": {
        "colab": {
          "base_uri": "https://localhost:8080/",
          "height": 206
        },
        "id": "6oiZh8W1-6Hv",
        "outputId": "63e51736-4f74-45fd-da4e-9c65fc3a670a"
      },
      "execution_count": 29,
      "outputs": [
        {
          "output_type": "execute_result",
          "data": {
            "text/plain": [
              "                                     <!DOCTYPE html>\n",
              "0                <html lang=\"en\" data-theme=\"light\">\n",
              "1                                             <head>\n",
              "2                           <meta charset=\"UTF-8\" />\n",
              "3      <meta name=\"description\" content=\"Discover...\n",
              "4            <link rel=\"icon\" href=\"/favicon.ico\" />"
            ],
            "text/html": [
              "\n",
              "  <div id=\"df-f58b9a08-7ea6-4126-b068-5ebb3cd565ef\" class=\"colab-df-container\">\n",
              "    <div>\n",
              "<style scoped>\n",
              "    .dataframe tbody tr th:only-of-type {\n",
              "        vertical-align: middle;\n",
              "    }\n",
              "\n",
              "    .dataframe tbody tr th {\n",
              "        vertical-align: top;\n",
              "    }\n",
              "\n",
              "    .dataframe thead th {\n",
              "        text-align: right;\n",
              "    }\n",
              "</style>\n",
              "<table border=\"1\" class=\"dataframe\">\n",
              "  <thead>\n",
              "    <tr style=\"text-align: right;\">\n",
              "      <th></th>\n",
              "      <th>&lt;!DOCTYPE html&gt;</th>\n",
              "    </tr>\n",
              "  </thead>\n",
              "  <tbody>\n",
              "    <tr>\n",
              "      <th>0</th>\n",
              "      <td>&lt;html lang=\"en\" data-theme=\"light\"&gt;</td>\n",
              "    </tr>\n",
              "    <tr>\n",
              "      <th>1</th>\n",
              "      <td>&lt;head&gt;</td>\n",
              "    </tr>\n",
              "    <tr>\n",
              "      <th>2</th>\n",
              "      <td>&lt;meta charset=\"UTF-8\" /&gt;</td>\n",
              "    </tr>\n",
              "    <tr>\n",
              "      <th>3</th>\n",
              "      <td>&lt;meta name=\"description\" content=\"Discover...</td>\n",
              "    </tr>\n",
              "    <tr>\n",
              "      <th>4</th>\n",
              "      <td>&lt;link rel=\"icon\" href=\"/favicon.ico\" /&gt;</td>\n",
              "    </tr>\n",
              "  </tbody>\n",
              "</table>\n",
              "</div>\n",
              "    <div class=\"colab-df-buttons\">\n",
              "\n",
              "  <div class=\"colab-df-container\">\n",
              "    <button class=\"colab-df-convert\" onclick=\"convertToInteractive('df-f58b9a08-7ea6-4126-b068-5ebb3cd565ef')\"\n",
              "            title=\"Convert this dataframe to an interactive table.\"\n",
              "            style=\"display:none;\">\n",
              "\n",
              "  <svg xmlns=\"http://www.w3.org/2000/svg\" height=\"24px\" viewBox=\"0 -960 960 960\">\n",
              "    <path d=\"M120-120v-720h720v720H120Zm60-500h600v-160H180v160Zm220 220h160v-160H400v160Zm0 220h160v-160H400v160ZM180-400h160v-160H180v160Zm440 0h160v-160H620v160ZM180-180h160v-160H180v160Zm440 0h160v-160H620v160Z\"/>\n",
              "  </svg>\n",
              "    </button>\n",
              "\n",
              "  <style>\n",
              "    .colab-df-container {\n",
              "      display:flex;\n",
              "      gap: 12px;\n",
              "    }\n",
              "\n",
              "    .colab-df-convert {\n",
              "      background-color: #E8F0FE;\n",
              "      border: none;\n",
              "      border-radius: 50%;\n",
              "      cursor: pointer;\n",
              "      display: none;\n",
              "      fill: #1967D2;\n",
              "      height: 32px;\n",
              "      padding: 0 0 0 0;\n",
              "      width: 32px;\n",
              "    }\n",
              "\n",
              "    .colab-df-convert:hover {\n",
              "      background-color: #E2EBFA;\n",
              "      box-shadow: 0px 1px 2px rgba(60, 64, 67, 0.3), 0px 1px 3px 1px rgba(60, 64, 67, 0.15);\n",
              "      fill: #174EA6;\n",
              "    }\n",
              "\n",
              "    .colab-df-buttons div {\n",
              "      margin-bottom: 4px;\n",
              "    }\n",
              "\n",
              "    [theme=dark] .colab-df-convert {\n",
              "      background-color: #3B4455;\n",
              "      fill: #D2E3FC;\n",
              "    }\n",
              "\n",
              "    [theme=dark] .colab-df-convert:hover {\n",
              "      background-color: #434B5C;\n",
              "      box-shadow: 0px 1px 3px 1px rgba(0, 0, 0, 0.15);\n",
              "      filter: drop-shadow(0px 1px 2px rgba(0, 0, 0, 0.3));\n",
              "      fill: #FFFFFF;\n",
              "    }\n",
              "  </style>\n",
              "\n",
              "    <script>\n",
              "      const buttonEl =\n",
              "        document.querySelector('#df-f58b9a08-7ea6-4126-b068-5ebb3cd565ef button.colab-df-convert');\n",
              "      buttonEl.style.display =\n",
              "        google.colab.kernel.accessAllowed ? 'block' : 'none';\n",
              "\n",
              "      async function convertToInteractive(key) {\n",
              "        const element = document.querySelector('#df-f58b9a08-7ea6-4126-b068-5ebb3cd565ef');\n",
              "        const dataTable =\n",
              "          await google.colab.kernel.invokeFunction('convertToInteractive',\n",
              "                                                    [key], {});\n",
              "        if (!dataTable) return;\n",
              "\n",
              "        const docLinkHtml = 'Like what you see? Visit the ' +\n",
              "          '<a target=\"_blank\" href=https://colab.research.google.com/notebooks/data_table.ipynb>data table notebook</a>'\n",
              "          + ' to learn more about interactive tables.';\n",
              "        element.innerHTML = '';\n",
              "        dataTable['output_type'] = 'display_data';\n",
              "        await google.colab.output.renderOutput(dataTable, element);\n",
              "        const docLink = document.createElement('div');\n",
              "        docLink.innerHTML = docLinkHtml;\n",
              "        element.appendChild(docLink);\n",
              "      }\n",
              "    </script>\n",
              "  </div>\n",
              "\n",
              "\n",
              "<div id=\"df-90fb0e00-8920-494d-880d-7e5296c5e860\">\n",
              "  <button class=\"colab-df-quickchart\" onclick=\"quickchart('df-90fb0e00-8920-494d-880d-7e5296c5e860')\"\n",
              "            title=\"Suggest charts.\"\n",
              "            style=\"display:none;\">\n",
              "\n",
              "<svg xmlns=\"http://www.w3.org/2000/svg\" height=\"24px\"viewBox=\"0 0 24 24\"\n",
              "     width=\"24px\">\n",
              "    <g>\n",
              "        <path d=\"M19 3H5c-1.1 0-2 .9-2 2v14c0 1.1.9 2 2 2h14c1.1 0 2-.9 2-2V5c0-1.1-.9-2-2-2zM9 17H7v-7h2v7zm4 0h-2V7h2v10zm4 0h-2v-4h2v4z\"/>\n",
              "    </g>\n",
              "</svg>\n",
              "  </button>\n",
              "\n",
              "<style>\n",
              "  .colab-df-quickchart {\n",
              "    background-color: #E8F0FE;\n",
              "    border: none;\n",
              "    border-radius: 50%;\n",
              "    cursor: pointer;\n",
              "    display: none;\n",
              "    fill: #1967D2;\n",
              "    height: 32px;\n",
              "    padding: 0 0 0 0;\n",
              "    width: 32px;\n",
              "  }\n",
              "\n",
              "  .colab-df-quickchart:hover {\n",
              "    background-color: #E2EBFA;\n",
              "    box-shadow: 0px 1px 2px rgba(60, 64, 67, 0.3), 0px 1px 3px 1px rgba(60, 64, 67, 0.15);\n",
              "    fill: #174EA6;\n",
              "  }\n",
              "\n",
              "  [theme=dark] .colab-df-quickchart {\n",
              "    background-color: #3B4455;\n",
              "    fill: #D2E3FC;\n",
              "  }\n",
              "\n",
              "  [theme=dark] .colab-df-quickchart:hover {\n",
              "    background-color: #434B5C;\n",
              "    box-shadow: 0px 1px 3px 1px rgba(0, 0, 0, 0.15);\n",
              "    filter: drop-shadow(0px 1px 2px rgba(0, 0, 0, 0.3));\n",
              "    fill: #FFFFFF;\n",
              "  }\n",
              "</style>\n",
              "\n",
              "  <script>\n",
              "    async function quickchart(key) {\n",
              "      const charts = await google.colab.kernel.invokeFunction(\n",
              "          'suggestCharts', [key], {});\n",
              "    }\n",
              "    (() => {\n",
              "      let quickchartButtonEl =\n",
              "        document.querySelector('#df-90fb0e00-8920-494d-880d-7e5296c5e860 button');\n",
              "      quickchartButtonEl.style.display =\n",
              "        google.colab.kernel.accessAllowed ? 'block' : 'none';\n",
              "    })();\n",
              "  </script>\n",
              "</div>\n",
              "    </div>\n",
              "  </div>\n"
            ]
          },
          "metadata": {},
          "execution_count": 29
        }
      ]
    },
    {
      "cell_type": "markdown",
      "source": [
        "<b> Demonstration for cloning a git Repository"
      ],
      "metadata": {
        "id": "EZNEyx5UMsRF"
      }
    },
    {
      "cell_type": "code",
      "source": [
        "!git clone https://github.com/wxs/keras-mnist-tutorial.git"
      ],
      "metadata": {
        "colab": {
          "base_uri": "https://localhost:8080/"
        },
        "id": "SporA610MrKM",
        "outputId": "0ab5eb06-1aee-4137-c791-dc9ea1480cf9"
      },
      "execution_count": 30,
      "outputs": [
        {
          "output_type": "stream",
          "name": "stdout",
          "text": [
            "fatal: destination path 'keras-mnist-tutorial' already exists and is not an empty directory.\n"
          ]
        }
      ]
    },
    {
      "cell_type": "markdown",
      "source": [
        "<body><li>To get a list of shortcuts for common operations"
      ],
      "metadata": {
        "id": "UQwMNJG0NQR3"
      }
    },
    {
      "cell_type": "code",
      "source": [
        "!ls /bin"
      ],
      "metadata": {
        "colab": {
          "base_uri": "https://localhost:8080/"
        },
        "id": "PzW4ZWRcNK6r",
        "outputId": "94b9a0a6-5117-49ed-c8eb-6d38ed589908"
      },
      "execution_count": 31,
      "outputs": [
        {
          "output_type": "stream",
          "name": "stdout",
          "text": [
            "'['\t\t\t\t      mknod\n",
            " 7z\t\t\t\t      mktemp\n",
            " 7za\t\t\t\t      mm2gv\n",
            " 7zr\t\t\t\t      more\n",
            " aclocal\t\t\t      mount\n",
            " aclocal-1.16\t\t\t      mountpoint\n",
            " acyclic\t\t\t      mpexpand\n",
            " add-apt-repository\t\t      mpic++\n",
            " addpart\t\t\t      mpicc\n",
            " addr2line\t\t\t      mpiCC\n",
            " aggregate_profile\t\t      mpicc.openmpi\n",
            " apropos\t\t\t      mpiCC.openmpi\n",
            " apt\t\t\t\t      mpic++.openmpi\n",
            " apt-add-repository\t\t      mpicxx\n",
            " apt-cache\t\t\t      mpicxx.openmpi\n",
            " apt-cdrom\t\t\t      mpiexec\n",
            " apt-config\t\t\t      mpiexec.openmpi\n",
            " apt-extracttemplates\t\t      mpif77\n",
            " apt-ftparchive\t\t\t      mpif77.openmpi\n",
            " apt-get\t\t\t      mpif90\n",
            " apt-key\t\t\t      mpif90.openmpi\n",
            " apt-mark\t\t\t      mpifort\n",
            " apt-sortpkgs\t\t\t      mpifort.openmpi\n",
            " ar\t\t\t\t      mpijavac\n",
            " arch\t\t\t\t      mpijavac.pl\n",
            " as\t\t\t\t      mpirun\n",
            " asan_symbolize\t\t\t      mpirun.openmpi\n",
            " asan_symbolize-14\t\t      mv\n",
            " autoconf\t\t\t      mysql_config\n",
            " autoheader\t\t\t      namei\n",
            " autom4te\t\t\t      nawk\n",
            " automake\t\t\t      nc-config\n",
            " automake-1.16\t\t\t      ncurses5-config\n",
            " autoreconf\t\t\t      ncurses6-config\n",
            " autoscan\t\t\t      ncursesw5-config\n",
            " autoupdate\t\t\t      ncursesw6-config\n",
            " awk\t\t\t\t      neato\n",
            " b2\t\t\t\t      neqn\n",
            " b2sum\t\t\t\t      networkctl\n",
            " base32\t\t\t\t      newgrp\n",
            " base64\t\t\t\t      nice\n",
            " basename\t\t\t      nisdomainname\n",
            " basenc\t\t\t\t      nl\n",
            " bash\t\t\t\t      nm\n",
            " bashbug\t\t\t      nns\n",
            " bcomps\t\t\t\t      nnsd\n",
            " bcp\t\t\t\t      nnslog\n",
            " bjam\t\t\t\t      nohup\n",
            " bootctl\t\t\t      nop\n",
            " browse\t\t\t\t      nproc\n",
            " bunzip2\t\t\t      nroff\n",
            " busctl\t\t\t\t      nsenter\n",
            " bzcat\t\t\t\t      nstat\n",
            " bzcmp\t\t\t\t      numfmt\n",
            " bzdiff\t\t\t\t      objcopy\n",
            " bzegrep\t\t\t      objdump\n",
            " bzexe\t\t\t\t      od\n",
            " bzfgrep\t\t\t      ogdi-config\n",
            " bzgrep\t\t\t\t      ompi-clean\n",
            " bzip2\t\t\t\t      ompi_info\n",
            " bzip2recover\t\t\t      ompi-server\n",
            " bzless\t\t\t\t      opalc++\n",
            " bzmore\t\t\t\t      opalcc\n",
            " c++\t\t\t\t      opal_wrapper\n",
            " c89\t\t\t\t      open\n",
            " c89-gcc\t\t\t      opencv_annotation\n",
            " c99\t\t\t\t      opencv_interactive-calibration\n",
            " c99-gcc\t\t\t      opencv_model_diagnostics\n",
            " captoinfo\t\t\t      opencv_version\n",
            " cat\t\t\t\t      opencv_visualisation\n",
            " catman\t\t\t\t      opencv_waldboost_detector\n",
            " cc\t\t\t\t      openssl\n",
            " ccomps\t\t\t\t      ortecc\n",
            " c++filt\t\t\t      orte-clean\n",
            " chage\t\t\t\t      orted\n",
            " chattr\t\t\t\t      orte-info\n",
            " chcon\t\t\t\t      orterun\n",
            " chfn\t\t\t\t      orte-server\n",
            " chgrp\t\t\t\t      osage\n",
            " chmod\t\t\t\t      oshc++\n",
            " choom\t\t\t\t      oshcc\n",
            " chown\t\t\t\t      oshCC\n",
            " chronic\t\t\t      oshcxx\n",
            " chrt\t\t\t\t      oshfort\n",
            " chsh\t\t\t\t      oshmem_info\n",
            " circo\t\t\t\t      oshrun\n",
            " cksum\t\t\t\t      p7zip\n",
            " clang\t\t\t\t      pack200\n",
            " clang++\t\t\t      page\n",
            " clang++-14\t\t\t      pager\n",
            " clang-14\t\t\t      pandoc\n",
            " clang-cpp-14\t\t\t      paperconf\n",
            " clear\t\t\t\t      parallel\n",
            " clear_console\t\t\t      partx\n",
            " clinfo\t\t\t\t      passwd\n",
            " cluster\t\t\t      paste\n",
            " cmake\t\t\t\t      patch\n",
            " cmp\t\t\t\t      patchwork\n",
            " col\t\t\t\t      pathchk\n",
            " colcrt\t\t\t\t      pcre2-config\n",
            " colrm\t\t\t\t      pcre-config\n",
            " column\t\t\t\t      pdb3\n",
            " combine\t\t\t      pdb3.10\n",
            " comm\t\t\t\t      pee\n",
            " compile_et\t\t\t      peekfd\n",
            " corelist\t\t\t      perl\n",
            " cp\t\t\t\t      perl5.34.0\n",
            " cpack\t\t\t\t      perl5.34-x86_64-linux-gnu\n",
            " cpan\t\t\t\t      perlbug\n",
            " cpan5.34-x86_64-linux-gnu\t      perldoc\n",
            " cpp\t\t\t\t      perlivp\n",
            " cpp-11\t\t\t\t      perlthanks\n",
            " c_rehash\t\t\t      pg_config\n",
            " csplit\t\t\t\t      pgrep\n",
            " ctest\t\t\t\t      pic\n",
            " ctstat\t\t\t\t      piconv\n",
            " curl\t\t\t\t      pidof\n",
            " curl-config\t\t\t      pidwait\n",
            " cut\t\t\t\t      pinentry\n",
            " cvtsudoers\t\t\t      pinentry-curses\n",
            " dash\t\t\t\t      pinky\n",
            " date\t\t\t\t      pkaction\n",
            " dbus-cleanup-sockets\t\t      pkcheck\n",
            " dbus-daemon\t\t\t      pkexec\n",
            " dbus-monitor\t\t\t      pkg-config\n",
            " dbus-run-session\t\t      pkgdata\n",
            " dbus-send\t\t\t      pkill\n",
            " dbus-update-activation-environment   pkttyagent\n",
            " dbus-uuidgen\t\t\t      pl2pm\n",
            " dd\t\t\t\t      pldd\n",
            " debconf\t\t\t      pmap\n",
            " debconf-apt-progress\t\t      pngfix\n",
            " debconf-communicate\t\t      png-fix-itxt\n",
            " debconf-copydb\t\t\t      pod2html\n",
            " debconf-escape\t\t\t      pod2man\n",
            " debconf-set-selections\t\t      pod2text\n",
            " debconf-show\t\t\t      pod2usage\n",
            " deb-systemd-helper\t\t      podchecker\n",
            " deb-systemd-invoke\t\t      pprof-symbolize\n",
            " delpart\t\t\t      pr\n",
            " derb\t\t\t\t      preconv\n",
            " df\t\t\t\t      prename\n",
            " dh_autotools-dev_restoreconfig       printenv\n",
            " dh_autotools-dev_updateconfig\t      printf\n",
            " diff\t\t\t\t      prlimit\n",
            " diff3\t\t\t\t      profile2mat\n",
            " diffimg\t\t\t      protoc\n",
            " dijkstra\t\t\t      prove\n",
            " dir\t\t\t\t      prtstat\n",
            " dircolors\t\t\t      prune\n",
            " dirmngr\t\t\t      ps\n",
            " dirmngr-client\t\t\t      pslog\n",
            " dirname\t\t\t      pstree\n",
            " dmesg\t\t\t\t      pstree.x11\n",
            " dnsdomainname\t\t\t      pt\n",
            " domainname\t\t\t      ptar\n",
            " dot\t\t\t\t      ptardiff\n",
            " dot2gxl\t\t\t      ptargrep\n",
            " dot_builtins\t\t\t      ptx\n",
            " dotty\t\t\t\t      pwd\n",
            " dpkg\t\t\t\t      pwdx\n",
            " dpkg-architecture\t\t      py3clean\n",
            " dpkg-buildflags\t\t      py3compile\n",
            " dpkg-buildpackage\t\t      py3versions\n",
            " dpkg-checkbuilddeps\t\t      pydoc3\n",
            " dpkg-deb\t\t\t      pydoc3.10\n",
            " dpkg-distaddfile\t\t      pygettext3\n",
            " dpkg-divert\t\t\t      pygettext3.10\n",
            " dpkg-genbuildinfo\t\t      python3\n",
            " dpkg-genchanges\t\t      python3.10\n",
            " dpkg-gencontrol\t\t      python3.10-config\n",
            " dpkg-gensymbols\t\t      python3-config\n",
            " dpkg-maintscript-helper\t      qt-faststart\n",
            " dpkg-mergechangelogs\t\t      quickbook\n",
            " dpkg-name\t\t\t      R\n",
            " dpkg-parsechangelog\t\t      ranlib\n",
            " dpkg-query\t\t\t      rbash\n",
            " dpkg-realpath\t\t\t      rcp\n",
            " dpkg-scanpackages\t\t      rdma\n",
            " dpkg-scansources\t\t      readelf\n",
            " dpkg-shlibdeps\t\t\t      readlink\n",
            " dpkg-source\t\t\t      realpath\n",
            " dpkg-split\t\t\t      rename\n",
            " dpkg-statoverride\t\t      renice\n",
            " dpkg-trigger\t\t\t      reset\n",
            " dpkg-vendor\t\t\t      resizepart\n",
            " dtplite\t\t\t      resolvectl\n",
            " du\t\t\t\t      rev\n",
            " dwp\t\t\t\t      rgrep\n",
            " echo\t\t\t\t      rlogin\n",
            " edgepaint\t\t\t      rm\n",
            " editor\t\t\t\t      rmdir\n",
            " egrep\t\t\t\t      rmic\n",
            " elfedit\t\t\t      rmid\n",
            " enc2xs\t\t\t\t      rmiregistry\n",
            " encguess\t\t\t      routef\n",
            " env\t\t\t\t      routel\n",
            " eqn\t\t\t\t      rpcgen\n",
            " errno\t\t\t\t      rrsync\n",
            " ex\t\t\t\t      Rscript\n",
            " expand\t\t\t\t      rsh\n",
            " expiry\t\t\t\t      rsync\n",
            " expr\t\t\t\t      rsync-ssl\n",
            " f77\t\t\t\t      rtstat\n",
            " f95\t\t\t\t      runcon\n",
            " factor\t\t\t\t      run-parts\n",
            " faillog\t\t\t      rview\n",
            " fallocate\t\t\t      rvim\n",
            " false\t\t\t\t      savelog\n",
            " fc-cache\t\t\t      sccmap\n",
            " fc-cat\t\t\t\t      scp\n",
            " fc-conflist\t\t\t      script\n",
            " fc-list\t\t\t      scriptlive\n",
            " fc-match\t\t\t      scriptreplay\n",
            " fc-pattern\t\t\t      sdiff\n",
            " fc-query\t\t\t      sed\n",
            " fc-scan\t\t\t      select-editor\n",
            " fc-validate\t\t\t      sensible-browser\n",
            " fdp\t\t\t\t      sensible-editor\n",
            " ffmpeg\t\t\t\t      sensible-pager\n",
            " ffplay\t\t\t\t      seq\n",
            " ffprobe\t\t\t      serialver\n",
            " fgrep\t\t\t\t      setarch\n",
            " file\t\t\t\t      setpriv\n",
            " file-rename\t\t\t      setsid\n",
            " fincore\t\t\t      setterm\n",
            " find\t\t\t\t      sfdp\n",
            " findmnt\t\t\t      sftp\n",
            " fio\t\t\t\t      sg\n",
            " fio2gnuplot\t\t\t      sh\n",
            " fio-btrace2fio\t\t\t      sha1sum\n",
            " fio-dedupe\t\t\t      sha224sum\n",
            " fio_generate_plots\t\t      sha256sum\n",
            " fio-genzipf\t\t\t      sha384sum\n",
            " fio_jsonplus_clat2csv\t\t      sha512sum\n",
            " fio-verify-state\t\t      shasum\n",
            " flock\t\t\t\t      shmemc++\n",
            " fmt\t\t\t\t      shmemcc\n",
            " fold\t\t\t\t      shmemCC\n",
            " free\t\t\t\t      shmemcxx\n",
            " funzip\t\t\t\t      shmemfort\n",
            " fuser\t\t\t\t      shmemrun\n",
            " fusermount\t\t\t      shred\n",
            " g++\t\t\t\t      shuf\n",
            " g++-11\t\t\t\t      size\n",
            " gapplication\t\t\t      skill\n",
            " gc\t\t\t\t      slabtop\n",
            " gcc\t\t\t\t      sleep\n",
            " gcc-11\t\t\t\t      slogin\n",
            " gcc-ar\t\t\t\t      snice\n",
            " gcc-ar-11\t\t\t      soelim\n",
            " gcc-nm\t\t\t\t      sort\n",
            " gcc-nm-11\t\t\t      splain\n",
            " gcc-ranlib\t\t\t      split\n",
            " gcc-ranlib-11\t\t\t      sponge\n",
            " gcov\t\t\t\t      ss\n",
            " gcov-11\t\t\t      ssh\n",
            " gcov-dump\t\t\t      ssh-add\n",
            " gcov-dump-11\t\t\t      ssh-agent\n",
            " gcov-tool\t\t\t      ssh-argv0\n",
            " gcov-tool-11\t\t\t      ssh-copy-id\n",
            " gdal-config\t\t\t      ssh-keygen\n",
            " gdbus\t\t\t\t      ssh-keyscan\n",
            " genbrk\t\t\t\t      stat\n",
            " gencat\t\t\t\t      stdbuf\n",
            " gencfu\t\t\t\t      streamzip\n",
            " gencnval\t\t\t      strings\n",
            " gendict\t\t\t      strip\n",
            " genfio\t\t\t\t      stty\n",
            " genrb\t\t\t\t      su\n",
            " geos-config\t\t\t      sudo\n",
            " geqn\t\t\t\t      sudoedit\n",
            " getconf\t\t\t      sudoreplay\n",
            " getent\t\t\t\t      sum\n",
            " getopt\t\t\t\t      sync\n",
            " gfortran\t\t\t      systemctl\n",
            " gfortran-11\t\t\t      systemd\n",
            " gio\t\t\t\t      systemd-analyze\n",
            " gio-querymodules\t\t      systemd-ask-password\n",
            " git\t\t\t\t      systemd-cat\n",
            " git-lfs\t\t\t      systemd-cgls\n",
            " git-receive-pack\t\t      systemd-cgtop\n",
            " git-shell\t\t\t      systemd-cryptenroll\n",
            " git-upload-archive\t\t      systemd-delta\n",
            " git-upload-pack\t\t      systemd-detect-virt\n",
            " glib-compile-schemas\t\t      systemd-escape\n",
            " gmake\t\t\t\t      systemd-id128\n",
            " gml2gv\t\t\t\t      systemd-inhibit\n",
            " gold\t\t\t\t      systemd-machine-id-setup\n",
            " google-pprof\t\t\t      systemd-mount\n",
            " gpasswd\t\t\t      systemd-notify\n",
            " gpg\t\t\t\t      systemd-path\n",
            " gpg2\t\t\t\t      systemd-run\n",
            " gpg-agent\t\t\t      systemd-socket-activate\n",
            " gpgcompose\t\t\t      systemd-stdio-bridge\n",
            " gpgconf\t\t\t      systemd-sysext\n",
            " gpg-connect-agent\t\t      systemd-sysusers\n",
            " gpgparsemail\t\t\t      systemd-tmpfiles\n",
            " gpgsm\t\t\t\t      systemd-tty-ask-password-agent\n",
            " gpgsplit\t\t\t      systemd-umount\n",
            " gpgtar\t\t\t\t      tabs\n",
            " gpgv\t\t\t\t      tac\n",
            " gpg-wks-server\t\t\t      tail\n",
            " gpg-zip\t\t\t      tar\n",
            " gpic\t\t\t\t      taskset\n",
            " gprof\t\t\t\t      tbl\n",
            " graphml2gv\t\t\t      tcldocstrip\n",
            " grep\t\t\t\t      tclsh\n",
            " gresource\t\t\t      tclsh8.6\n",
            " groff\t\t\t\t      tcltk-depends\n",
            " grog\t\t\t\t      tee\n",
            " grops\t\t\t\t      tempfile\n",
            " grotty\t\t\t\t      test\n",
            " groups\t\t\t\t      tic\n",
            " gsettings\t\t\t      timedatectl\n",
            " gtbl\t\t\t\t      timeout\n",
            " gtk-update-icon-cache\t\t      tload\n",
            " gunzip\t\t\t\t      tmux\n",
            " gv2gml\t\t\t\t      toe\n",
            " gv2gxl\t\t\t\t      top\n",
            " gvcolor\t\t\t      touch\n",
            " gvgen\t\t\t\t      tput\n",
            " gvmap\t\t\t\t      tr\n",
            " gvmap.sh\t\t\t      tred\n",
            " gvpack\t\t\t\t      troff\n",
            " gvpr\t\t\t\t      true\n",
            " gxl2dot\t\t\t      truncate\n",
            " gxl2gv\t\t\t\t      ts\n",
            " gzexe\t\t\t\t      tset\n",
            " gzip\t\t\t\t      tsort\n",
            " h2ph\t\t\t\t      tty\n",
            " h2xs\t\t\t\t      twopi\n",
            " h5c++\t\t\t\t      tzselect\n",
            " h5cc\t\t\t\t      ucf\n",
            " h5fc\t\t\t\t      ucfq\n",
            " hardlink\t\t\t      ucfr\n",
            " hd\t\t\t\t      uclampset\n",
            " head\t\t\t\t      uconv\n",
            " helpztags\t\t\t      ul\n",
            " hexdump\t\t\t      ulockmgr_server\n",
            " hostid\t\t\t\t      umount\n",
            " hostname\t\t\t      uname\n",
            " hostnamectl\t\t\t      uncompress\n",
            " i386\t\t\t\t      unexpand\n",
            " iconv\t\t\t\t      unflatten\n",
            " icuexportdata\t\t\t      uniq\n",
            " icuinfo\t\t\t      unlink\n",
            " id\t\t\t\t      unlzma\n",
            " ifdata\t\t\t\t      unpack200\n",
            " ifnames\t\t\t      unrar\n",
            " ifne\t\t\t\t      unrar-nonfree\n",
            " infocmp\t\t\t      unshare\n",
            " infotocap\t\t\t      unxz\n",
            " inspect\t\t\t      unzip\n",
            " install\t\t\t      unzipsfx\n",
            " instmodsh\t\t\t      update-alternatives\n",
            " ionice\t\t\t\t      update-mime-database\n",
            " ip\t\t\t\t      uptime\n",
            " ipcmk\t\t\t\t      users\n",
            " ipcrm\t\t\t\t      utmpdump\n",
            " ipcs\t\t\t\t      vdir\n",
            " ischroot\t\t\t      vi\n",
            " isutf8\t\t\t\t      vidir\n",
            " jaotc\t\t\t\t      view\n",
            " jar\t\t\t\t      vim\n",
            " jarsigner\t\t\t      vim.basic\n",
            " java\t\t\t\t      vimdiff\n",
            " javac\t\t\t\t      vimdot\n",
            " javadoc\t\t\t      vimtutor\n",
            " javap\t\t\t\t      vipe\n",
            " jcmd\t\t\t\t      vmstat\n",
            " jdb\t\t\t\t      w\n",
            " jdeprscan\t\t\t      wall\n",
            " jdeps\t\t\t\t      watch\n",
            " jexec\t\t\t\t      watchgnupg\n",
            " jfr\t\t\t\t      wc\n",
            " jhsdb\t\t\t\t      wdctl\n",
            " jimage\t\t\t\t      wget\n",
            " jinfo\t\t\t\t      whatis\n",
            " jjs\t\t\t\t      whereis\n",
            " jlink\t\t\t\t      which\n",
            " jmap\t\t\t\t      which.debianutils\n",
            " jmod\t\t\t\t      who\n",
            " join\t\t\t\t      whoami\n",
            " journalctl\t\t\t      wish\n",
            " jps\t\t\t\t      wish8.6\n",
            " jrunscript\t\t\t      write\n",
            " jshell\t\t\t\t      write.ul\n",
            " json_pp\t\t\t      X11\n",
            " jstack\t\t\t\t      x86_64\n",
            " jstat\t\t\t\t      x86_64-linux-gnu-addr2line\n",
            " jstatd\t\t\t\t      x86_64-linux-gnu-ar\n",
            " kbxutil\t\t\t      x86_64-linux-gnu-as\n",
            " kernel-install\t\t\t      x86_64-linux-gnu-c++filt\n",
            " keyring\t\t\t      x86_64-linux-gnu-cpp\n",
            " keytool\t\t\t      x86_64-linux-gnu-cpp-11\n",
            " kill\t\t\t\t      x86_64-linux-gnu-dwp\n",
            " killall\t\t\t      x86_64-linux-gnu-elfedit\n",
            " kmod\t\t\t\t      x86_64-linux-gnu-g++\n",
            " krb5-config\t\t\t      x86_64-linux-gnu-g++-11\n",
            " krb5-config.mit\t\t      x86_64-linux-gnu-gcc\n",
            " last\t\t\t\t      x86_64-linux-gnu-gcc-11\n",
            " lastb\t\t\t\t      x86_64-linux-gnu-gcc-ar\n",
            " lastlog\t\t\t      x86_64-linux-gnu-gcc-ar-11\n",
            " lcf\t\t\t\t      x86_64-linux-gnu-gcc-nm\n",
            " lckdo\t\t\t\t      x86_64-linux-gnu-gcc-nm-11\n",
            " ld\t\t\t\t      x86_64-linux-gnu-gcc-ranlib\n",
            " ld.bfd\t\t\t\t      x86_64-linux-gnu-gcc-ranlib-11\n",
            " ldd\t\t\t\t      x86_64-linux-gnu-gcov\n",
            " ld.gold\t\t\t      x86_64-linux-gnu-gcov-11\n",
            " lefty\t\t\t\t      x86_64-linux-gnu-gcov-dump\n",
            " less\t\t\t\t      x86_64-linux-gnu-gcov-dump-11\n",
            " lessecho\t\t\t      x86_64-linux-gnu-gcov-tool\n",
            " lessfile\t\t\t      x86_64-linux-gnu-gcov-tool-11\n",
            " lesskey\t\t\t      x86_64-linux-gnu-gfortran\n",
            " lesspipe\t\t\t      x86_64-linux-gnu-gfortran-11\n",
            " lexgrog\t\t\t      x86_64-linux-gnu-gold\n",
            " libnetcfg\t\t\t      x86_64-linux-gnu-gprof\n",
            " libpng16-config\t\t      x86_64-linux-gnu-ld\n",
            " libpng-config\t\t\t      x86_64-linux-gnu-ld.bfd\n",
            " link\t\t\t\t      x86_64-linux-gnu-ld.gold\n",
            " linux32\t\t\t      x86_64-linux-gnu-lto-dump-11\n",
            " linux64\t\t\t      x86_64-linux-gnu-nm\n",
            " ln\t\t\t\t      x86_64-linux-gnu-objcopy\n",
            " lneato\t\t\t\t      x86_64-linux-gnu-objdump\n",
            " lnstat\t\t\t\t      x86_64-linux-gnu-pkg-config\n",
            " locale\t\t\t\t      x86_64-linux-gnu-python3.10-config\n",
            " locale-check\t\t\t      x86_64-linux-gnu-python3-config\n",
            " localectl\t\t\t      x86_64-linux-gnu-ranlib\n",
            " localedef\t\t\t      x86_64-linux-gnu-readelf\n",
            " logger\t\t\t\t      x86_64-linux-gnu-size\n",
            " login\t\t\t\t      x86_64-linux-gnu-strings\n",
            " loginctl\t\t\t      x86_64-linux-gnu-strip\n",
            " logname\t\t\t      x86_64-pc-linux-gnu-pkg-config\n",
            " look\t\t\t\t      xargs\n",
            " ls\t\t\t\t      xauth\n",
            " lsattr\t\t\t\t      xdg-desktop-icon\n",
            " lsblk\t\t\t\t      xdg-desktop-menu\n",
            " lsb_release\t\t\t      xdg-email\n",
            " lscpu\t\t\t\t      xdg-icon-resource\n",
            " lsipc\t\t\t\t      xdg-mime\n",
            " lslocks\t\t\t      xdg-open\n",
            " lslogins\t\t\t      xdg-screensaver\n",
            " lsmem\t\t\t\t      xdg-settings\n",
            " lsmod\t\t\t\t      xml2-config\n",
            " lsns\t\t\t\t      xsel\n",
            " lsof\t\t\t\t      xsubpp\n",
            " lspgpot\t\t\t      xxd\n",
            " lto-dump-11\t\t\t      xz\n",
            " lzcat\t\t\t\t      xzcat\n",
            " lzcmp\t\t\t\t      xzcmp\n",
            " lzdiff\t\t\t\t      xzdiff\n",
            " lzegrep\t\t\t      xzegrep\n",
            " lzfgrep\t\t\t      xzfgrep\n",
            " lzgrep\t\t\t\t      xzgrep\n",
            " lzless\t\t\t\t      xzless\n",
            " lzma\t\t\t\t      xzmore\n",
            " lzmainfo\t\t\t      yes\n",
            " lzmore\t\t\t\t      ypdomainname\n",
            " m4\t\t\t\t      zcat\n",
            " make\t\t\t\t      zcmp\n",
            " makeconv\t\t\t      zdiff\n",
            " make-first-existing-target\t      zdump\n",
            " man\t\t\t\t      zegrep\n",
            " mandb\t\t\t\t      zfgrep\n",
            " manpath\t\t\t      zforce\n",
            " man.REAL\t\t\t      zgrep\n",
            " man-recode\t\t\t      zip\n",
            " mawk\t\t\t\t      zipcloak\n",
            " mcookie\t\t\t      zipdetails\n",
            " md5sum\t\t\t\t      zipgrep\n",
            " md5sum.textutils\t\t      zipinfo\n",
            " mesg\t\t\t\t      zipnote\n",
            " migrate-pubring-from-classic-gpg     zipsplit\n",
            " mingle\t\t\t\t      zless\n",
            " mispipe\t\t\t      zmore\n",
            " mkdir\t\t\t\t      znew\n",
            " mkfifo\t\t\t\t      zrun\n"
          ]
        }
      ]
    },
    {
      "cell_type": "markdown",
      "source": [
        "<h3><b>Command to Mount user Google drive to Notebook</b></h3>\n",
        "<blockquote>from google.colab import drive<br>\n",
        "drive.mount('/content/drive')</blockquote>\n",
        "<br> The code only works when the user grants permission to the user's Google drive.<br>\n",
        "I am not running the command because it list contents of my Drive."
      ],
      "metadata": {
        "id": "UKWJF8_g9xjp"
      }
    },
    {
      "cell_type": "markdown",
      "source": [
        "<h6><b>Commad to list the contents of Google Drive</b></h6>\n",
        "<blockquote>!ls \"/content/drive/My Drive/Colab Notebooks\"</blockquote>\n",
        "The code only works when the user grants permission to the user's Google drive."
      ],
      "metadata": {
        "id": "1XiJ-t7TVlLX"
      }
    },
    {
      "cell_type": "markdown",
      "source": [
        "<h5><b> Demonstrate Graphs in Collab</h5>"
      ],
      "metadata": {
        "id": "nuDCWuwXWNnE"
      }
    },
    {
      "cell_type": "markdown",
      "source": [
        "<body>The below code is a sample to demonstrate how user can show graphical data using collab<li>First we are generating random values for x and y using <b>numpy</b></li><li>We are creating a line plot for<b> y</b> dataset against thier corresponding indices from the <b>x</b> using <b>matplotlib</b></li><li><b>fill_between()</b> function from Matplotlib to fill the area between the line plot and the value 200 on the y-axis. The where parameter is set to (y > 195), which means the fill will only occur where the y values are greater than 195. The filled area is colored green with an alpha (transparency) value of 0.6 using facecolor='g' and alpha=0.6.</li></ul></body>"
      ],
      "metadata": {
        "id": "7V6z7toAXvcM"
      }
    },
    {
      "cell_type": "code",
      "source": [
        "import numpy as np\n",
        "from matplotlib import pyplot as plt\n",
        "\n",
        "y = np.random.randn(100)\n",
        "x = [x for x in range(len(y))]\n",
        "\n",
        "plt.plot(x, y, '-')\n",
        "plt.fill_between(x, y, 200, where = (y > 195), facecolor='g', alpha=0.6)\n",
        "\n",
        "plt.title(\"Sample Plot\")\n",
        "plt.show()"
      ],
      "metadata": {
        "colab": {
          "base_uri": "https://localhost:8080/",
          "height": 452
        },
        "id": "M52IszlPXp4k",
        "outputId": "fb9113b7-43e8-41ce-f523-23bbdc562aed"
      },
      "execution_count": 32,
      "outputs": [
        {
          "output_type": "display_data",
          "data": {
            "text/plain": [
              "<Figure size 640x480 with 1 Axes>"
            ],
            "image/png": "[encoded data removed]"
          },
          "metadata": {}
        }
      ]
    },
    {
      "cell_type": "markdown",
      "source": [
        "<h6><b>Torch Module</b></h6><br>\n",
        "<li>Torch typically refers to PyTorch library in python which facilitates in creation,training, and experimentation. Its often used for training and experimenting Deep learning models.</li>"
      ],
      "metadata": {
        "id": "lwr2zcu1r3VA"
      }
    },
    {
      "cell_type": "code",
      "source": [
        "import torch\n"
      ],
      "metadata": {
        "id": "prFDjl-9sJKc"
      },
      "execution_count": 33,
      "outputs": []
    },
    {
      "cell_type": "markdown",
      "source": [
        "<h8><li>Inorder to access more functionalities of Torch we can write something like <b>torch.cos()</b> this is a cos function but we can write any function after <b>torch.__()</b></li></h8>"
      ],
      "metadata": {
        "id": "gua5x4ihtH0X"
      }
    },
    {
      "cell_type": "markdown",
      "source": [
        "<h4><b>Magics"
      ],
      "metadata": {
        "id": "09zyWCn2tw8v"
      }
    },
    {
      "cell_type": "markdown",
      "source": [
        "<li>Magic commands are non-standard Python commands supplied by Colab's interactive environment to enhance your notebook experience.</li>"
      ],
      "metadata": {
        "id": "jt-sAjLgCwLD"
      }
    },
    {
      "cell_type": "markdown",
      "source": [
        "<h8>Magics are two types</h8>\n",
        "<li> line magics</li>\n",
        "<li> cell Magics </li>\n",
        "<h8>\n",
        "These magic commands begin with a single% sign (line magics) or %% (cell magics), followed by the command's name</h8>\n"
      ],
      "metadata": {
        "id": "QgQYu2HKcziw"
      }
    },
    {
      "cell_type": "markdown",
      "source": [
        "<h6> Example for line Magics</h6>\n",
        "The below example of line magics would present the complete history of commands that you have previously executed."
      ],
      "metadata": {
        "id": "QqzFCnyZfE7l"
      }
    },
    {
      "cell_type": "code",
      "source": [
        "%history"
      ],
      "metadata": {
        "colab": {
          "base_uri": "https://localhost:8080/"
        },
        "id": "I-b4xFzSCuQ_",
        "outputId": "4bcb975d-fca3-40b9-fd5e-e75d77a3306b"
      },
      "execution_count": 34,
      "outputs": [
        {
          "output_type": "stream",
          "name": "stdout",
          "text": [
            "!pip install -q keras\n",
            "!pip3 install torch torchvision\n",
            "!apt install libnvrtc8.0\n",
            "!pip install mxnet-cu80\n",
            "!apt-get -qq install -y libsm6 libxext6 && pip install -q -U opencv-python\n",
            "!pip install -q xgboost==0.4a30\n",
            "!apt-get -qq install -y graphviz && pip install -q pydot\n",
            "### I dont have mnist_cnn.py in my drive\n",
            "!python3 \"/content/drive/My Drive/app/mnist_cnn.py\"\n",
            "import time\n",
            "print(time.ctime())\n",
            "time.sleep(5)\n",
            "print (time.ctime())\n",
            "import subprocess\n",
            "\n",
            "message = 'A Great Tutorial on Colab by Tutorialspoint!'\n",
            "greeting = subprocess.getoutput(f'echo  \"{message}\\\\n{message}\"')\n",
            "print(greeting)\n",
            "!wget https://archive.ics.uci.edu/dataset/2/adult -P \"/content/drive/My Drive/app\"\n",
            "import pandas as pd\n",
            "data = pd.read_csv(\"/content/drive/My Drive/app/adult.1\", on_bad_lines='skip')\n",
            "data.head(5)\n",
            "import pandas as pd\n",
            "data = pd.read_csv(\"/content/drive/My Drive/app/adult\", on_bad_lines='skip')\n",
            "data.head(5)\n",
            "import time\n",
            "print(time.ctime())\n",
            "time.sleep(5)\n",
            "print (time.ctime())\n",
            "import subprocess\n",
            "\n",
            "message = 'A Great Tutorial on Colab by Tutorialspoint!'\n",
            "greeting = subprocess.getoutput(f'echo  \"{message}\\\\n{message}\"')\n",
            "print(greeting)\n",
            "!wget https://archive.ics.uci.edu/dataset/2/adult -P \"/content/drive/My Drive/app\"\n",
            "import pandas as pd\n",
            "data = pd.read_csv(\"/content/drive/My Drive/app/adult\", on_bad_lines='skip')\n",
            "data.head(5)\n",
            "!git clone https://github.com/wxs/keras-mnist-tutorial.git\n",
            "!ls /bin\n",
            "import numpy as np\n",
            "from matplotlib import pyplot as plt\n",
            "\n",
            "y = np.random.randn(100)\n",
            "x = [x for x in range(len(y))]\n",
            "\n",
            "plt.plot(x, y, '-')\n",
            "plt.fill_between(x, y, 200, where = (y > 195), facecolor='g', alpha=0.6)\n",
            "\n",
            "plt.title(\"Sample Plot\")\n",
            "plt.show()\n",
            "import torch\n",
            "%history\n",
            "%%html\n",
            "<svg xmlns=\"https://www.w3.org/2000/svg\" viewBox=\"0 0 600 400\" width=\"400\" height=\"400\">\n",
            "   <rect x=\"10\" y=\"00\" width=\"300\" height=\"100\" rx=\"0\" style=\"fill:orange; stroke:black; fill-opacity:1.0\" />\n",
            "   <rect x=\"10\" y=\"100\" width=\"300\" height=\"100\" rx=\"0\" style=\"fill:white; stroke:black; fill-opacity:1.0;\" />\n",
            "   <rect x=\"10\" y=\"200\" width=\"300\" height=\"100\" rx=\"0\" style=\"fill:green; stroke:black; fill-opacity:1.0;\" />\n",
            "</svg>\n",
            "%lsmagic\n",
            "color = 'red' #@param [\"red\", \"green\", \"blue\"]\n",
            "print(color)\n",
            "!pip install -q keras\n",
            "!pip3 install torch torchvision\n",
            "!apt install libnvrtc8.0\n",
            "!pip install mxnet-cu80\n",
            "!apt-get -qq install -y libsm6 libxext6 && pip install -q -U opencv-python\n",
            "!pip install -q xgboost==0.4a30\n",
            "!apt-get -qq install -y graphviz && pip install -q pydot\n",
            "### I dont have mnist_cnn.py in my drive\n",
            "!python3 \"/content/drive/My Drive/app/mnist_cnn.py\"\n",
            "from tensorflow.python.client import device_lib\n",
            "device_lib.list_local_devices()\n",
            "!cat /proc/meminfo\n",
            "git add  Project_1_Intro_to_data_eng.ipynb\n",
            "import time\n",
            "print(time.ctime())\n",
            "time.sleep(5)\n",
            "print (time.ctime())\n",
            "import subprocess\n",
            "\n",
            "message = 'A Great Tutorial on Colab by Tutorialspoint!'\n",
            "greeting = subprocess.getoutput(f'echo  \"{message}\\\\n{message}\"')\n",
            "print(greeting)\n",
            "!wget https://archive.ics.uci.edu/dataset/2/adult -P \"/content/drive/My Drive/app\"\n",
            "import pandas as pd\n",
            "data = pd.read_csv(\"/content/drive/My Drive/app/adult\", on_bad_lines='skip')\n",
            "data.head(5)\n",
            "!git clone https://github.com/wxs/keras-mnist-tutorial.git\n",
            "!ls /bin\n",
            "import numpy as np\n",
            "from matplotlib import pyplot as plt\n",
            "\n",
            "y = np.random.randn(100)\n",
            "x = [x for x in range(len(y))]\n",
            "\n",
            "plt.plot(x, y, '-')\n",
            "plt.fill_between(x, y, 200, where = (y > 195), facecolor='g', alpha=0.6)\n",
            "\n",
            "plt.title(\"Sample Plot\")\n",
            "plt.show()\n",
            "import torch\n",
            "%history\n"
          ]
        }
      ]
    },
    {
      "cell_type": "markdown",
      "source": [
        "<h6> Example for Cell Magics</h6>\n",
        "The below example of Cell magics would draw a Figure."
      ],
      "metadata": {
        "id": "6aXDA_A4frgY"
      }
    },
    {
      "cell_type": "code",
      "source": [
        "%%html\n",
        "<svg xmlns=\"https://www.w3.org/2000/svg\" viewBox=\"0 0 600 400\" width=\"400\" height=\"400\">\n",
        "   <rect x=\"10\" y=\"00\" width=\"300\" height=\"100\" rx=\"0\" style=\"fill:orange; stroke:black; fill-opacity:1.0\" />\n",
        "   <rect x=\"10\" y=\"100\" width=\"300\" height=\"100\" rx=\"0\" style=\"fill:white; stroke:black; fill-opacity:1.0;\" />\n",
        "   <rect x=\"10\" y=\"200\" width=\"300\" height=\"100\" rx=\"0\" style=\"fill:green; stroke:black; fill-opacity:1.0;\" />\n",
        "</svg>"
      ],
      "metadata": {
        "colab": {
          "base_uri": "https://localhost:8080/",
          "height": 421
        },
        "id": "guflOB1yvDUN",
        "outputId": "73b794bd-f094-47eb-efd9-f943f8177809"
      },
      "execution_count": 35,
      "outputs": [
        {
          "output_type": "display_data",
          "data": {
            "text/plain": [
              "<IPython.core.display.HTML object>"
            ],
            "text/html": [
              "<svg xmlns=\"https://www.w3.org/2000/svg\" viewBox=\"0 0 600 400\" width=\"400\" height=\"400\">\n",
              "   <rect x=\"10\" y=\"00\" width=\"300\" height=\"100\" rx=\"0\" style=\"fill:orange; stroke:black; fill-opacity:1.0\" />\n",
              "   <rect x=\"10\" y=\"100\" width=\"300\" height=\"100\" rx=\"0\" style=\"fill:white; stroke:black; fill-opacity:1.0;\" />\n",
              "   <rect x=\"10\" y=\"200\" width=\"300\" height=\"100\" rx=\"0\" style=\"fill:green; stroke:black; fill-opacity:1.0;\" />\n",
              "</svg>\n"
            ]
          },
          "metadata": {}
        }
      ]
    },
    {
      "cell_type": "markdown",
      "source": [
        "<li>Inorder to get a complete list of supported magics"
      ],
      "metadata": {
        "id": "GT6Y5ZRWgV19"
      }
    },
    {
      "cell_type": "code",
      "source": [
        "%lsmagic"
      ],
      "metadata": {
        "colab": {
          "base_uri": "https://localhost:8080/",
          "height": 230
        },
        "id": "AP2W5iI6glYq",
        "outputId": "90f4ada3-e9db-45b5-fa59-c95c414ef770"
      },
      "execution_count": 36,
      "outputs": [
        {
          "output_type": "execute_result",
          "data": {
            "text/plain": [
              "Available line magics:\n",
              "%alias  %alias_magic  %autoawait  %autocall  %automagic  %autosave  %bookmark  %cat  %cd  %clear  %colors  %conda  %config  %connect_info  %cp  %debug  %dhist  %dirs  %doctest_mode  %ed  %edit  %env  %gui  %hist  %history  %killbgscripts  %ldir  %less  %lf  %lk  %ll  %load  %load_ext  %loadpy  %logoff  %logon  %logstart  %logstate  %logstop  %ls  %lsmagic  %lx  %macro  %magic  %man  %matplotlib  %mkdir  %more  %mv  %notebook  %page  %pastebin  %pdb  %pdef  %pdoc  %pfile  %pinfo  %pinfo2  %pip  %popd  %pprint  %precision  %prun  %psearch  %psource  %pushd  %pwd  %pycat  %pylab  %qtconsole  %quickref  %recall  %rehashx  %reload_ext  %rep  %rerun  %reset  %reset_selective  %rm  %rmdir  %run  %save  %sc  %set_env  %shell  %store  %sx  %system  %tb  %tensorflow_version  %time  %timeit  %unalias  %unload_ext  %who  %who_ls  %whos  %xdel  %xmode\n",
              "\n",
              "Available cell magics:\n",
              "%%!  %%HTML  %%SVG  %%bash  %%bigquery  %%capture  %%debug  %%file  %%html  %%javascript  %%js  %%latex  %%markdown  %%perl  %%prun  %%pypy  %%python  %%python2  %%python3  %%ruby  %%script  %%sh  %%shell  %%svg  %%sx  %%system  %%time  %%timeit  %%writefile\n",
              "\n",
              "Automagic is ON, % prefix IS NOT needed for line magics."
            ],
            "application/json": {
              "line": {
                "automagic": "AutoMagics",
                "autocall": "AutoMagics",
                "alias_magic": "BasicMagics",
                "lsmagic": "BasicMagics",
                "magic": "BasicMagics",
                "page": "BasicMagics",
                "pprint": "BasicMagics",
                "colors": "BasicMagics",
                "xmode": "BasicMagics",
                "quickref": "BasicMagics",
                "doctest_mode": "BasicMagics",
                "gui": "BasicMagics",
                "precision": "BasicMagics",
                "notebook": "BasicMagics",
                "save": "CodeMagics",
                "pastebin": "CodeMagics",
                "loadpy": "CodeMagics",
                "load": "CodeMagics",
                "edit": "KernelMagics",
                "config": "ConfigMagics",
                "prun": "ExecutionMagics",
                "pdb": "ExecutionMagics",
                "debug": "ExecutionMagics",
                "tb": "ExecutionMagics",
                "run": "ExecutionMagics",
                "timeit": "ExecutionMagics",
                "time": "ExecutionMagics",
                "macro": "ExecutionMagics",
                "load_ext": "ExtensionMagics",
                "unload_ext": "ExtensionMagics",
                "reload_ext": "ExtensionMagics",
                "history": "HistoryMagics",
                "recall": "HistoryMagics",
                "rerun": "HistoryMagics",
                "logstart": "LoggingMagics",
                "logstop": "LoggingMagics",
                "logoff": "LoggingMagics",
                "logon": "LoggingMagics",
                "logstate": "LoggingMagics",
                "pinfo": "NamespaceMagics",
                "pinfo2": "NamespaceMagics",
                "pdef": "NamespaceMagics",
                "pdoc": "NamespaceMagics",
                "psource": "NamespaceMagics",
                "pfile": "NamespaceMagics",
                "psearch": "NamespaceMagics",
                "who_ls": "NamespaceMagics",
                "who": "NamespaceMagics",
                "whos": "NamespaceMagics",
                "reset": "NamespaceMagics",
                "reset_selective": "NamespaceMagics",
                "xdel": "NamespaceMagics",
                "alias": "OSMagics",
                "unalias": "OSMagics",
                "rehashx": "OSMagics",
                "pwd": "OSMagics",
                "cd": "OSMagics",
                "env": "OSMagics",
                "set_env": "OSMagics",
                "pushd": "OSMagics",
                "popd": "OSMagics",
                "dirs": "OSMagics",
                "dhist": "OSMagics",
                "sc": "OSMagics",
                "sx": "OSMagics",
                "system": "OSMagics",
                "bookmark": "OSMagics",
                "pycat": "OSMagics",
                "pip": "Other",
                "conda": "PackagingMagics",
                "matplotlib": "PylabMagics",
                "pylab": "PylabMagics",
                "killbgscripts": "ScriptMagics",
                "autoawait": "AsyncMagics",
                "ed": "Other",
                "hist": "Other",
                "rep": "Other",
                "clear": "KernelMagics",
                "less": "KernelMagics",
                "more": "KernelMagics",
                "man": "KernelMagics",
                "connect_info": "KernelMagics",
                "qtconsole": "KernelMagics",
                "autosave": "KernelMagics",
                "mkdir": "Other",
                "rmdir": "Other",
                "mv": "Other",
                "rm": "Other",
                "cp": "Other",
                "cat": "Other",
                "ls": "Other",
                "ll": "Other",
                "lf": "Other",
                "lk": "Other",
                "ldir": "Other",
                "lx": "Other",
                "store": "StoreMagics",
                "shell": "Other",
                "tensorflow_version": "Other"
              },
              "cell": {
                "js": "DisplayMagics",
                "javascript": "DisplayMagics",
                "latex": "DisplayMagics",
                "svg": "DisplayMagics",
                "html": "DisplayMagics",
                "markdown": "DisplayMagics",
                "prun": "ExecutionMagics",
                "debug": "ExecutionMagics",
                "timeit": "ExecutionMagics",
                "time": "ExecutionMagics",
                "capture": "ExecutionMagics",
                "sx": "OSMagics",
                "system": "OSMagics",
                "!": "OSMagics",
                "writefile": "OSMagics",
                "script": "ScriptMagics",
                "sh": "Other",
                "bash": "Other",
                "perl": "Other",
                "ruby": "Other",
                "python": "Other",
                "python2": "Other",
                "python3": "Other",
                "pypy": "Other",
                "SVG": "Other",
                "HTML": "Other",
                "file": "Other",
                "bigquery": "Other",
                "shell": "Other"
              }
            }
          },
          "metadata": {},
          "execution_count": 36
        }
      ]
    },
    {
      "cell_type": "markdown",
      "source": [
        "<h4><B>Form</B></h4>\n",
        "Form allows you to accept inputs from the user at runtime.<br>\n",
        "Given Below is an example of a form."
      ],
      "metadata": {
        "id": "hzNR_ApUjX51"
      }
    },
    {
      "cell_type": "code",
      "source": [
        "color = 'red' #@param [\"red\", \"green\", \"blue\"]\n",
        "print(color)"
      ],
      "metadata": {
        "colab": {
          "base_uri": "https://localhost:8080/"
        },
        "id": "q69QbH4ti1ko",
        "outputId": "40480b82-f319-42c9-adb7-1a3179ac76cd"
      },
      "execution_count": 37,
      "outputs": [
        {
          "output_type": "stream",
          "name": "stdout",
          "text": [
            "red\n"
          ]
        }
      ]
    },
    {
      "cell_type": "markdown",
      "source": [
        "<li>There are still so many forms that we can show but i just didn't go through all forms."
      ],
      "metadata": {
        "id": "GdTpjo9f_V8d"
      }
    },
    {
      "cell_type": "markdown",
      "source": [
        "<h6> <b>Installing necessay machine learning libraries</b></h6>\n",
        "<li>we use the following command along with library name</li>\n",
        "<blockquote>!pip install</blockquote>"
      ],
      "metadata": {
        "id": "vwc5wkQzknkY"
      }
    },
    {
      "cell_type": "markdown",
      "source": [
        "<li>Collab also provides free Gpu it can enabled on any notebook."
      ],
      "metadata": {
        "id": "fLxfgZJBpZa6"
      }
    },
    {
      "cell_type": "markdown",
      "source": [
        "<h6> <b> Installing ML Libraries\n",
        "</b></h6>\n",
        "<li>These are just some Ml libraries that we are given in tutorial for installation."
      ],
      "metadata": {
        "id": "wLui3D6U_z_d"
      }
    },
    {
      "cell_type": "code",
      "source": [
        "!pip install -q keras\n",
        "!pip3 install torch torchvision\n",
        "!apt install libnvrtc8.0\n",
        "!pip install mxnet-cu80\n",
        "!apt-get -qq install -y libsm6 libxext6 && pip install -q -U opencv-python\n",
        "!pip install -q xgboost==0.4a30\n",
        "!apt-get -qq install -y graphviz && pip install -q pydot\n",
        "### I dont have mnist_cnn.py in my drive so its gonna show some error\n",
        "!python3 \"/content/drive/My Drive/app/mnist_cnn.py\"\n"
      ],
      "metadata": {
        "colab": {
          "base_uri": "https://localhost:8080/"
        },
        "id": "QWYnTpkA_8mk",
        "outputId": "38af73a1-77ee-4411-9c54-68007e195e4d"
      },
      "execution_count": 38,
      "outputs": [
        {
          "output_type": "stream",
          "name": "stdout",
          "text": [
            "Requirement already satisfied: torch in /usr/local/lib/python3.10/dist-packages (2.0.1+cu118)\n",
            "Requirement already satisfied: torchvision in /usr/local/lib/python3.10/dist-packages (0.15.2+cu118)\n",
            "Requirement already satisfied: filelock in /usr/local/lib/python3.10/dist-packages (from torch) (3.12.2)\n",
            "Requirement already satisfied: typing-extensions in /usr/local/lib/python3.10/dist-packages (from torch) (4.7.1)\n",
            "Requirement already satisfied: sympy in /usr/local/lib/python3.10/dist-packages (from torch) (1.12)\n",
            "Requirement already satisfied: networkx in /usr/local/lib/python3.10/dist-packages (from torch) (3.1)\n",
            "Requirement already satisfied: jinja2 in /usr/local/lib/python3.10/dist-packages (from torch) (3.1.2)\n",
            "Requirement already satisfied: triton==2.0.0 in /usr/local/lib/python3.10/dist-packages (from torch) (2.0.0)\n",
            "Requirement already satisfied: cmake in /usr/local/lib/python3.10/dist-packages (from triton==2.0.0->torch) (3.27.2)\n",
            "Requirement already satisfied: lit in /usr/local/lib/python3.10/dist-packages (from triton==2.0.0->torch) (16.0.6)\n",
            "Requirement already satisfied: numpy in /usr/local/lib/python3.10/dist-packages (from torchvision) (1.23.5)\n",
            "Requirement already satisfied: requests in /usr/local/lib/python3.10/dist-packages (from torchvision) (2.31.0)\n",
            "Requirement already satisfied: pillow!=8.3.*,>=5.3.0 in /usr/local/lib/python3.10/dist-packages (from torchvision) (9.4.0)\n",
            "Requirement already satisfied: MarkupSafe>=2.0 in /usr/local/lib/python3.10/dist-packages (from jinja2->torch) (2.1.3)\n",
            "Requirement already satisfied: charset-normalizer<4,>=2 in /usr/local/lib/python3.10/dist-packages (from requests->torchvision) (3.2.0)\n",
            "Requirement already satisfied: idna<4,>=2.5 in /usr/local/lib/python3.10/dist-packages (from requests->torchvision) (3.4)\n",
            "Requirement already satisfied: urllib3<3,>=1.21.1 in /usr/local/lib/python3.10/dist-packages (from requests->torchvision) (2.0.4)\n",
            "Requirement already satisfied: certifi>=2017.4.17 in /usr/local/lib/python3.10/dist-packages (from requests->torchvision) (2023.7.22)\n",
            "Requirement already satisfied: mpmath>=0.19 in /usr/local/lib/python3.10/dist-packages (from sympy->torch) (1.3.0)\n",
            "Reading package lists... Done\n",
            "Building dependency tree... Done\n",
            "Reading state information... Done\n",
            "\u001b[1;31mE: \u001b[0mUnable to locate package libnvrtc8.0\u001b[0m\n",
            "\u001b[1;31mE: \u001b[0mCouldn't find any package by glob 'libnvrtc8.0'\u001b[0m\n",
            "Requirement already satisfied: mxnet-cu80 in /usr/local/lib/python3.10/dist-packages (1.5.0)\n",
            "Requirement already satisfied: numpy<2.0.0,>1.16.0 in /usr/local/lib/python3.10/dist-packages (from mxnet-cu80) (1.23.5)\n",
            "Requirement already satisfied: requests<3,>=2.20.0 in /usr/local/lib/python3.10/dist-packages (from mxnet-cu80) (2.31.0)\n",
            "Requirement already satisfied: graphviz<0.9.0,>=0.8.1 in /usr/local/lib/python3.10/dist-packages (from mxnet-cu80) (0.8.4)\n",
            "Requirement already satisfied: charset-normalizer<4,>=2 in /usr/local/lib/python3.10/dist-packages (from requests<3,>=2.20.0->mxnet-cu80) (3.2.0)\n",
            "Requirement already satisfied: idna<4,>=2.5 in /usr/local/lib/python3.10/dist-packages (from requests<3,>=2.20.0->mxnet-cu80) (3.4)\n",
            "Requirement already satisfied: urllib3<3,>=1.21.1 in /usr/local/lib/python3.10/dist-packages (from requests<3,>=2.20.0->mxnet-cu80) (2.0.4)\n",
            "Requirement already satisfied: certifi>=2017.4.17 in /usr/local/lib/python3.10/dist-packages (from requests<3,>=2.20.0->mxnet-cu80) (2023.7.22)\n",
            "  \u001b[1;31merror\u001b[0m: \u001b[1msubprocess-exited-with-error\u001b[0m\n",
            "  \n",
            "  \u001b[31m×\u001b[0m \u001b[32mpython setup.py egg_info\u001b[0m did not run successfully.\n",
            "  \u001b[31m│\u001b[0m exit code: \u001b[1;36m1\u001b[0m\n",
            "  \u001b[31m╰─>\u001b[0m See above for output.\n",
            "  \n",
            "  \u001b[1;35mnote\u001b[0m: This error originates from a subprocess, and is likely not a problem with pip.\n",
            "  Preparing metadata (setup.py) ... \u001b[?25l\u001b[?25herror\n",
            "\u001b[1;31merror\u001b[0m: \u001b[1mmetadata-generation-failed\u001b[0m\n",
            "\n",
            "\u001b[31m×\u001b[0m Encountered error while generating package metadata.\n",
            "\u001b[31m╰─>\u001b[0m See above for output.\n",
            "\n",
            "\u001b[1;35mnote\u001b[0m: This is an issue with the package mentioned above, not pip.\n",
            "\u001b[1;36mhint\u001b[0m: See above for details.\n",
            "python3: can't open file '/content/drive/My Drive/app/mnist_cnn.py': [Errno 2] No such file or directory\n"
          ]
        }
      ]
    },
    {
      "cell_type": "markdown",
      "source": [
        "<h4><b>Listing Devices"
      ],
      "metadata": {
        "id": "dQ60qM1zpnxT"
      }
    },
    {
      "cell_type": "markdown",
      "source": [
        "\n",
        "<li>If you're interested in finding out which devices are being used while your notebook is running in the cloud, you can use the following code."
      ],
      "metadata": {
        "id": "wL8if3b7qQR1"
      }
    },
    {
      "cell_type": "code",
      "source": [
        "from tensorflow.python.client import device_lib\n",
        "device_lib.list_local_devices()"
      ],
      "metadata": {
        "colab": {
          "base_uri": "https://localhost:8080/"
        },
        "id": "M5TdC406p9Cg",
        "outputId": "d0421ce7-5cfe-4ad6-a483-f021dc8e71dd"
      },
      "execution_count": 39,
      "outputs": [
        {
          "output_type": "execute_result",
          "data": {
            "text/plain": [
              "[name: \"/device:CPU:0\"\n",
              " device_type: \"CPU\"\n",
              " memory_limit: 268435456\n",
              " locality {\n",
              " }\n",
              " incarnation: 14177169430941042315\n",
              " xla_global_id: -1]"
            ]
          },
          "metadata": {},
          "execution_count": 39
        }
      ]
    },
    {
      "cell_type": "markdown",
      "source": [
        "<li>To check memory resource."
      ],
      "metadata": {
        "id": "hE25pwr5qVOB"
      }
    },
    {
      "cell_type": "code",
      "source": [
        "!cat /proc/meminfo"
      ],
      "metadata": {
        "colab": {
          "base_uri": "https://localhost:8080/"
        },
        "id": "B-9sCqRrqaTm",
        "outputId": "c9ef8259-6ef8-4566-e541-e8cfd863ad0e"
      },
      "execution_count": 40,
      "outputs": [
        {
          "output_type": "stream",
          "name": "stdout",
          "text": [
            "MemTotal:       13294252 kB\n",
            "MemFree:         8347576 kB\n",
            "MemAvailable:   11742324 kB\n",
            "Buffers:           68152 kB\n",
            "Cached:          3504144 kB\n",
            "SwapCached:            0 kB\n",
            "Active:           967840 kB\n",
            "Inactive:        3688196 kB\n",
            "Active(anon):       2592 kB\n",
            "Inactive(anon):  1084212 kB\n",
            "Active(file):     965248 kB\n",
            "Inactive(file):  2603984 kB\n",
            "Unevictable:           0 kB\n",
            "Mlocked:               0 kB\n",
            "SwapTotal:             0 kB\n",
            "SwapFree:              0 kB\n",
            "Dirty:               444 kB\n",
            "Writeback:             0 kB\n",
            "AnonPages:       1077648 kB\n",
            "Mapped:           660980 kB\n",
            "Shmem:              3064 kB\n",
            "KReclaimable:     132940 kB\n",
            "Slab:             173284 kB\n",
            "SReclaimable:     132940 kB\n",
            "SUnreclaim:        40344 kB\n",
            "KernelStack:        4272 kB\n",
            "PageTables:        18884 kB\n",
            "NFS_Unstable:          0 kB\n",
            "Bounce:                0 kB\n",
            "WritebackTmp:          0 kB\n",
            "CommitLimit:     6647124 kB\n",
            "Committed_AS:    2762980 kB\n",
            "VmallocTotal:   34359738367 kB\n",
            "VmallocUsed:        9236 kB\n",
            "VmallocChunk:          0 kB\n",
            "Percpu:             1296 kB\n",
            "HardwareCorrupted:     0 kB\n",
            "AnonHugePages:     16384 kB\n",
            "ShmemHugePages:        0 kB\n",
            "ShmemPmdMapped:        0 kB\n",
            "FileHugePages:         0 kB\n",
            "FilePmdMapped:         0 kB\n",
            "CmaTotal:              0 kB\n",
            "CmaFree:               0 kB\n",
            "HugePages_Total:       0\n",
            "HugePages_Free:        0\n",
            "HugePages_Rsvd:        0\n",
            "HugePages_Surp:        0\n",
            "Hugepagesize:       2048 kB\n",
            "Hugetlb:               0 kB\n",
            "DirectMap4k:      105272 kB\n",
            "DirectMap2M:     7231488 kB\n",
            "DirectMap1G:     8388608 kB\n"
          ]
        }
      ]
    },
    {
      "cell_type": "markdown",
      "source": [
        "<h2><b>Conclusion</h2>"
      ],
      "metadata": {
        "id": "B23Ms71NrPs2"
      }
    },
    {
      "cell_type": "markdown",
      "source": [
        "<li>This tutorial of Google Collab helped me understanding the benefits and purpose of using it."
      ],
      "metadata": {
        "id": "DUR1DzAzrF8y"
      }
    }
  ]
}